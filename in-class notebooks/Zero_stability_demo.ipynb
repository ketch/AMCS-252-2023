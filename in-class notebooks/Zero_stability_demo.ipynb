{
 "cells": [
  {
   "cell_type": "code",
   "execution_count": null,
   "metadata": {},
   "outputs": [],
   "source": [
    "%matplotlib inline\n",
    "import numpy as np\n",
    "import matplotlib.pyplot as plt\n",
    "import matplotlib\n",
    "font = {'size'   : 15}\n",
    "matplotlib.rc('font', **font)"
   ]
  },
  {
   "cell_type": "markdown",
   "metadata": {},
   "source": [
    "Here we set up 3 linear multistep methods."
   ]
  },
  {
   "cell_type": "code",
   "execution_count": null,
   "metadata": {},
   "outputs": [],
   "source": [
    "def leapfrog(f, k, unp1, un):\n",
    "    return un + 2*k*f(unp1)\n",
    "\n",
    "def adams_bashforth(f, k, unp1, un):\n",
    "    return unp1 +  k/2*(3*f(unp1)-f(un))\n",
    "\n",
    "def three_pt(f, k, unp2, unp1, un):\n",
    "    return 3*unp2 - 2*unp1 + k*f(un)"
   ]
  },
  {
   "cell_type": "markdown",
   "metadata": {},
   "source": [
    "# Zero stability demonstration"
   ]
  },
  {
   "cell_type": "markdown",
   "metadata": {},
   "source": [
    "Now we test our methods on the problem\n",
    "\n",
    "$$\n",
    "  u'(t) = 0, \\ \\ \\ \\ u(0)=0.\n",
    "$$\n",
    "\n",
    "We take initial values\n",
    "$$\n",
    "U^0 = 0, \\ \\ \\ \\ \\ \\ \\ \\ U^1=k\n",
    "$$\n",
    "which converge to the correct values as $k \\to 0$."
   ]
  },
  {
   "cell_type": "code",
   "execution_count": null,
   "metadata": {},
   "outputs": [],
   "source": [
    "def f(u):\n",
    "    return 0"
   ]
  },
  {
   "cell_type": "code",
   "execution_count": null,
   "metadata": {},
   "outputs": [],
   "source": [
    "k = 0.1\n",
    "uu = [0,k]\n",
    "for i in range(50):\n",
    "    uu.append(adams_bashforth(f,k,uu[-1],uu[-2]))\n",
    "    \n",
    "plt.plot(uu)\n",
    "plt.title('Adams-Bashforth');\n",
    "plt.xlabel('$n$'); plt.ylabel('$u$');"
   ]
  },
  {
   "cell_type": "code",
   "execution_count": null,
   "metadata": {},
   "outputs": [],
   "source": [
    "k = 0.1\n",
    "uu = [0,k]\n",
    "for i in range(50):\n",
    "    uu.append(leapfrog(f,k,uu[-1],uu[-2]))\n",
    "\n",
    "plt.plot(uu)\n",
    "plt.title('Leapfrog');\n",
    "plt.xlabel('$n$'); plt.ylabel('$u$');"
   ]
  },
  {
   "cell_type": "code",
   "execution_count": null,
   "metadata": {},
   "outputs": [],
   "source": [
    "k = 0.1\n",
    "uu = [0,k,2*k]\n",
    "for i in range(50):\n",
    "    uu.append(three_pt(f,k,uu[-1],uu[-2],uu[-3]))\n",
    "\n",
    "plt.plot(uu)\n",
    "plt.title('3-point method');\n",
    "plt.xlabel('$n$'); plt.ylabel('$u$');"
   ]
  },
  {
   "cell_type": "markdown",
   "metadata": {},
   "source": [
    "# Absolute stability demonstration"
   ]
  },
  {
   "cell_type": "code",
   "execution_count": null,
   "metadata": {},
   "outputs": [],
   "source": [
    "def g(u):\n",
    "    return -u\n",
    "\n",
    "k = 0.5\n",
    "uu = [1.,np.exp(-k)]\n",
    "N=50\n",
    "for i in range(N):\n",
    "    uu.append(adams_bashforth(g,k,uu[-1],uu[-2]))\n",
    "    \n",
    "t = np.linspace(0,k*N,N+2)    \n",
    "plt.plot(t,uu)\n",
    "plt.plot(t,np.exp(-t))\n",
    "plt.title('Adams-Bashforth');"
   ]
  },
  {
   "cell_type": "code",
   "execution_count": null,
   "metadata": {},
   "outputs": [],
   "source": [
    "k = 0.1\n",
    "uu = [1.,np.exp(-k)]\n",
    "for i in range(100):\n",
    "    uu.append(leapfrog(g,k,uu[-1],uu[-2]))\n",
    "    \n",
    "plt.plot(uu)\n",
    "plt.title('Leapfrog');"
   ]
  },
  {
   "cell_type": "code",
   "execution_count": null,
   "metadata": {},
   "outputs": [],
   "source": [
    "k = 1.e-5\n",
    "uu = [1.,1.,1.]\n",
    "for i in range(50):\n",
    "    uu.append(three_pt(g,k,uu[-1],uu[-2],uu[-3]))\n",
    "\n",
    "plt.plot(uu)\n",
    "plt.title('3-point method');"
   ]
  }
 ],
 "metadata": {
  "kernelspec": {
   "display_name": "Python 3 (ipykernel)",
   "language": "python",
   "name": "python3"
  },
  "language_info": {
   "codemirror_mode": {
    "name": "ipython",
    "version": 3
   },
   "file_extension": ".py",
   "mimetype": "text/x-python",
   "name": "python",
   "nbconvert_exporter": "python",
   "pygments_lexer": "ipython3",
   "version": "3.10.4"
  },
  "toc": {
   "base_numbering": 1,
   "nav_menu": {},
   "number_sections": true,
   "sideBar": true,
   "skip_h1_title": false,
   "title_cell": "Table of Contents",
   "title_sidebar": "Contents",
   "toc_cell": false,
   "toc_position": {},
   "toc_section_display": true,
   "toc_window_display": false
  }
 },
 "nbformat": 4,
 "nbformat_minor": 4
}
