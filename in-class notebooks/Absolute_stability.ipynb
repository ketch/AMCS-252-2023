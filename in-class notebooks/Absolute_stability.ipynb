{
 "cells": [
  {
   "cell_type": "code",
   "execution_count": null,
   "metadata": {
    "slideshow": {
     "slide_type": "skip"
    }
   },
   "outputs": [],
   "source": [
    "%matplotlib inline\n",
    "import numpy as np\n",
    "import matplotlib.pyplot as plt\n",
    "from ipywidgets import interact, widgets\n",
    "from nodepy import rk, lm\n",
    "FE = rk.loadRKM('FE')\n",
    "BE = rk.loadRKM('BE')\n",
    "trapezoidal = rk.RungeKuttaMethod(np.array([[0.,0],[0.5,0.5]]),np.array([0.5,0.5]))\n",
    "trapezoidal.name = 'Implicit Trapezoidal Method'\n",
    "rk4 = rk.loadRKM('RK44')"
   ]
  },
  {
   "cell_type": "markdown",
   "metadata": {
    "slideshow": {
     "slide_type": "fragment"
    }
   },
   "source": [
    "Consider the \"ODE\"\n",
    "$$u'(t)=-\\sin(t)$$ with $$u(0)=1.$$  What is the true solution?"
   ]
  },
  {
   "cell_type": "markdown",
   "metadata": {
    "slideshow": {
     "slide_type": "fragment"
    }
   },
   "source": [
    "$$u(t) = \\cos(t) $$"
   ]
  },
  {
   "cell_type": "markdown",
   "metadata": {
    "slideshow": {
     "slide_type": "fragment"
    }
   },
   "source": [
    "If we use Euler's method to solve it, the local truncation error is\n",
    "$$\\tau(t) = \\frac{1}{2}k u''(t) + O(k^2) = -\\frac{k}{2}\\cos(t) + O(k^2).$$"
   ]
  },
  {
   "cell_type": "markdown",
   "metadata": {
    "slideshow": {
     "slide_type": "slide"
    }
   },
   "source": [
    "Recall our error estimate:\n",
    "    $$|E^n| \\le T e^{LT}\\|\\tau\\|_\\infty.$$\n",
    "    \n",
    "How big is this bound for our problem, at $T=2$?"
   ]
  },
  {
   "cell_type": "markdown",
   "metadata": {},
   "source": [
    "$$L=0$$\n",
    "$$\\max|t| \\tau \\approx k/2$$\n",
    "$$|E^n| \\le k.$$"
   ]
  },
  {
   "cell_type": "markdown",
   "metadata": {
    "slideshow": {
     "slide_type": "slide"
    }
   },
   "source": [
    " \n",
    "Let's test this with a time step $k=0.01$:  "
   ]
  },
  {
   "cell_type": "code",
   "execution_count": null,
   "metadata": {
    "slideshow": {
     "slide_type": "fragment"
    }
   },
   "outputs": [],
   "source": [
    "def Euler(u,t,k,f):\n",
    "    return u + k*f(u,t)\n",
    "\n",
    "f = lambda u,t: -np.sin(t)\n",
    "T=2.\n",
    "k=0.01\n",
    "t=np.arange(0,T+k,k)\n",
    "U=np.zeros(len(t))\n",
    "U[0]=1.\n",
    "for n in range(len(t)-1):\n",
    "    U[n+1]=Euler(U[n],t[n],k,f)\n",
    "\n",
    "print('Error at T=2: ',U[-1]-np.cos(T))"
   ]
  },
  {
   "cell_type": "code",
   "execution_count": null,
   "metadata": {
    "slideshow": {
     "slide_type": "slide"
    }
   },
   "outputs": [],
   "source": [
    "plt.plot(t,U,lw=3);\n",
    "plt.plot(t,np.cos(t),'--k')\n",
    "plt.legend(['Numerical','Exact']);"
   ]
  },
  {
   "cell_type": "markdown",
   "metadata": {
    "slideshow": {
     "slide_type": "slide"
    }
   },
   "source": [
    "Next, consider the ODE\n",
    "$$u'(t) = \\lambda(u-\\cos(t)) - \\sin(t),$$\n",
    "again with $u(0)=1$.  Notice that the solution is again \n",
    "$$u(t) = \\cos(t)$$ but now the Lipschitz constant of $f$ is $\\lambda$."
   ]
  },
  {
   "cell_type": "markdown",
   "metadata": {
    "slideshow": {
     "slide_type": "slide"
    }
   },
   "source": [
    "$$u'(t) = \\lambda(u-\\cos(t)) - \\sin(t),$$\n",
    "\n",
    "Take $\\lambda=-10$ and solve again with Euler's method:"
   ]
  },
  {
   "cell_type": "code",
   "execution_count": null,
   "metadata": {},
   "outputs": [],
   "source": [
    "lamda = -10\n",
    "f = lambda u,t: lamda*(u-np.cos(t))-np.sin(t)\n",
    "T=10.\n",
    "k=0.01\n",
    "t=np.arange(0,T+k,k)\n",
    "U=np.zeros(len(t))\n",
    "U[0]=1.\n",
    "for n in range(len(t)-1):\n",
    "    U[n+1]=Euler(U[n],t[n],k,f)\n",
    "\n",
    "plt.plot(t,U);\n",
    "plt.plot(t,np.cos(t),'--k');"
   ]
  },
  {
   "cell_type": "code",
   "execution_count": null,
   "metadata": {
    "slideshow": {
     "slide_type": "fragment"
    }
   },
   "outputs": [],
   "source": [
    "lamda = -10\n",
    "f = lambda u,t: lamda*(u-np.cos(t))-np.sin(t)\n",
    "T=2.\n",
    "k=0.01\n",
    "t=np.arange(0,T+k,k)\n",
    "U=np.zeros(len(t))\n",
    "U[0]=1.\n",
    "for n in range(len(t)-1):\n",
    "    U[n+1]=Euler(U[n],t[n],k,f)\n",
    "\n",
    "print('Error at T=2: ',U[-1]-np.cos(T))"
   ]
  },
  {
   "cell_type": "markdown",
   "metadata": {
    "slideshow": {
     "slide_type": "fragment"
    }
   },
   "source": [
    "The error is even smaller."
   ]
  },
  {
   "cell_type": "markdown",
   "metadata": {
    "slideshow": {
     "slide_type": "slide"
    }
   },
   "source": [
    "$$u'(t) = \\lambda(u-\\cos(t)) - \\sin(t),$$\n",
    "\n",
    "Now let's take $\\lambda = -250$ with the same step size $k=1/100$:"
   ]
  },
  {
   "cell_type": "code",
   "execution_count": null,
   "metadata": {
    "slideshow": {
     "slide_type": "fragment"
    }
   },
   "outputs": [],
   "source": [
    "lamda = -250\n",
    "f = lambda u,t: lamda*(u-np.cos(t))-np.sin(t)\n",
    "T=2.\n",
    "k=0.01\n",
    "t=np.arange(0,T+k,k)\n",
    "U=np.zeros(len(t))\n",
    "U[0]=1.\n",
    "for n in range(len(t)-1):\n",
    "    U[n+1]=Euler(U[n],t[n],k,f)\n",
    "\n",
    "print('Error at T=2: ',U[-1]-np.cos(T))"
   ]
  },
  {
   "cell_type": "markdown",
   "metadata": {
    "slideshow": {
     "slide_type": "fragment"
    }
   },
   "source": [
    "Now the error is huge!  Why?"
   ]
  },
  {
   "cell_type": "markdown",
   "metadata": {
    "slideshow": {
     "slide_type": "slide"
    }
   },
   "source": [
    "Our ODE\n",
    "\n",
    "$$u'(t) = \\lambda(u-\\cos(t)) - \\sin(t)$$\n",
    "\n",
    "is linear.  We found that the error propagates according to\n",
    "\n",
    "$$E^{n+1} = (1+k\\lambda)E^n - k\\tau^n$$\n",
    "\n",
    "so the error will grow at each step if $|1+k\\lambda|>1.$"
   ]
  },
  {
   "cell_type": "markdown",
   "metadata": {
    "slideshow": {
     "slide_type": "fragment"
    }
   },
   "source": [
    "What values of $k$ will give a reasonably-sized error for this problem?"
   ]
  },
  {
   "cell_type": "code",
   "execution_count": null,
   "metadata": {
    "slideshow": {
     "slide_type": "slide"
    }
   },
   "outputs": [],
   "source": [
    "def solve(k):\n",
    "    T = 5.4\n",
    "    t=np.arange(0,T+k,k)\n",
    "    U=np.zeros(len(t))\n",
    "    U[0]=1.\n",
    "    for n in range(len(t)-1):\n",
    "        U[n+1]=Euler(U[n],t[n],k,f)\n",
    "    plt.plot(t,U)\n",
    "\n",
    "interact(solve,k=widgets.FloatText(value=0.01));"
   ]
  },
  {
   "cell_type": "code",
   "execution_count": null,
   "metadata": {},
   "outputs": [],
   "source": [
    "1/250"
   ]
  },
  {
   "cell_type": "markdown",
   "metadata": {
    "slideshow": {
     "slide_type": "slide"
    }
   },
   "source": [
    "What values of $k$ will give a reasonably-sized error for this problem?\n",
    "\n",
    "$$ | 1 + k\\lambda | \\le 1 $$\n",
    "$$ -1 \\le 1+ k\\lambda \\le 1$$\n",
    "$$ 0 \\le k \\le -2/\\lambda = 0.008$$"
   ]
  },
  {
   "cell_type": "markdown",
   "metadata": {
    "slideshow": {
     "slide_type": "slide"
    }
   },
   "source": [
    "What if we use the backward Euler method instead?\n",
    "$$U^{n+1} = U^n + kf(U^{n+1})$$\n",
    "For linear problems:\n",
    "\n",
    "$$U^{n+1} = U^n + k\\lambda U^{n+1} + kg(t^{n+1})$$\n",
    "\n",
    "$$U^{n+1} = (1-k\\lambda)^{-1} (U^{n} + k g(t^{n+1}))$$\n",
    "\n",
    "Similarly, the error at each step gets amplified by the factor\n",
    "$$\\frac{1}{1-k\\lambda}.$$\n",
    "What values of $k$ and $\\lambda$ are acceptable?"
   ]
  },
  {
   "cell_type": "markdown",
   "metadata": {
    "slideshow": {
     "slide_type": "slide"
    }
   },
   "source": [
    "Let $z=k\\lambda$.\n",
    "\n",
    "We see that forward Euler behaves well if\n",
    "$$|1+z| \\le 1$$\n",
    "while backward Euler behaves well if\n",
    "$$\\left|\\frac{1}{1-z}\\right|\\le 1.$$"
   ]
  },
  {
   "cell_type": "markdown",
   "metadata": {
    "slideshow": {
     "slide_type": "fragment"
    }
   },
   "source": [
    "For any Runge--Kutta method, solving the linear problem\n",
    "$$u'(t) = \\lambda u(t)$$\n",
    "leads to the iteration\n",
    "$$U^{n+1} = R(z) U^n$$\n",
    "where $R(z)$ is the *stability function* of the method.  "
   ]
  },
  {
   "cell_type": "markdown",
   "metadata": {
    "slideshow": {
     "slide_type": "fragment"
    }
   },
   "source": [
    "We say the calculation is *absolutely stable* if $$|R(z)|\\le 1.$$"
   ]
  },
  {
   "cell_type": "markdown",
   "metadata": {
    "slideshow": {
     "slide_type": "slide"
    }
   },
   "source": [
    "The condition\n",
    "$$|R(z)|\\le 1$$\n",
    "defines a region in the complex plane, known as the *region of absolute stability*."
   ]
  },
  {
   "cell_type": "code",
   "execution_count": null,
   "metadata": {
    "slideshow": {
     "slide_type": "fragment"
    }
   },
   "outputs": [],
   "source": [
    "FE.plot_stability_region();"
   ]
  },
  {
   "cell_type": "markdown",
   "metadata": {
    "slideshow": {
     "slide_type": "fragment"
    }
   },
   "source": [
    "$$|1+z| \\le 1$$"
   ]
  },
  {
   "cell_type": "code",
   "execution_count": null,
   "metadata": {
    "slideshow": {
     "slide_type": "slide"
    }
   },
   "outputs": [],
   "source": [
    "BE.plot_stability_region(bounds=[-10,5,-5,5]);"
   ]
  },
  {
   "cell_type": "markdown",
   "metadata": {
    "slideshow": {
     "slide_type": "fragment"
    }
   },
   "source": [
    "$$\\left|\\frac{1}{1-z}\\right|\\le 1.$$"
   ]
  },
  {
   "cell_type": "markdown",
   "metadata": {
    "slideshow": {
     "slide_type": "slide"
    }
   },
   "source": [
    "For what values of $\\lambda$ does the true solution of\n",
    "$$u'(t) = \\lambda u(t)$$\n",
    "remain bounded?"
   ]
  },
  {
   "cell_type": "markdown",
   "metadata": {
    "slideshow": {
     "slide_type": "fragment"
    }
   },
   "source": [
    "$$u(t) = e^{\\lambda t} u(0)$$\n",
    "\n",
    "\n",
    "$$\\lim_{t\\to\\infty} |u(t)| < \\infty \\iff \\operatorname{Re}(\\lambda) \\le 0.$$"
   ]
  },
  {
   "cell_type": "markdown",
   "metadata": {
    "slideshow": {
     "slide_type": "slide"
    }
   },
   "source": [
    "$$\\lim_{t\\to\\infty} |u(t)| < \\infty \\iff \\operatorname{Re}(\\lambda) \\le 0.$$\n",
    "\n",
    "Do any numerical methods mimic this behavior exactly?"
   ]
  },
  {
   "cell_type": "markdown",
   "metadata": {
    "slideshow": {
     "slide_type": "fragment"
    }
   },
   "source": [
    "Recall the trapezoidal method:\n",
    "$$U^{n+1} = U^n + \\frac{k}{2}(f(U^n) + f(U^{n+1})).$$\n",
    "\n",
    "We have\n",
    "\n",
    "$$U^{n+1} = U^n + \\frac{\\lambda k}{2}(U^n + U^{n+1})$$\n",
    "or\n",
    "$$\n",
    "U^{n+1} = \\frac{1+z/2}{1-z/2}U^n.\n",
    "$$"
   ]
  },
  {
   "cell_type": "code",
   "execution_count": null,
   "metadata": {
    "slideshow": {
     "slide_type": "slide"
    }
   },
   "outputs": [],
   "source": [
    "trapezoidal.plot_stability_region(bounds=[-10,5,-5,5]);"
   ]
  },
  {
   "cell_type": "markdown",
   "metadata": {
    "slideshow": {
     "slide_type": "fragment"
    }
   },
   "source": [
    "$$ \\left|\\frac{1+z/2}{1-z/2}\\right| \\le 1$$"
   ]
  },
  {
   "cell_type": "markdown",
   "metadata": {
    "slideshow": {
     "slide_type": "slide"
    }
   },
   "source": [
    "Other Runge--Kutta methods can have more complicated stability regions:"
   ]
  },
  {
   "cell_type": "code",
   "execution_count": null,
   "metadata": {
    "slideshow": {
     "slide_type": "fragment"
    }
   },
   "outputs": [],
   "source": [
    "rk4.plot_stability_region();"
   ]
  },
  {
   "cell_type": "markdown",
   "metadata": {
    "slideshow": {
     "slide_type": "fragment"
    }
   },
   "source": [
    "$$|1+z+\\frac{1}{2}z^2 + \\frac{1}{6} z^3 + \\frac{1}{24} z^4|\\le 1$$"
   ]
  },
  {
   "cell_type": "markdown",
   "metadata": {
    "slideshow": {
     "slide_type": "slide"
    }
   },
   "source": [
    "## Linear systems of equations\n",
    "\n",
    "Consider the linear system of ODEs\n",
    "\n",
    "$$u_1'(t) = -u_2(t)$$\n",
    "$$u_2'(t) = u_1(t).$$\n",
    "\n",
    "If we take $u_1(0)=1$ and $u_2(0)=0$, the solution is $u_1(t)=\\cos(t)$, $u_2(t) = \\sin(t)$."
   ]
  },
  {
   "cell_type": "markdown",
   "metadata": {
    "slideshow": {
     "slide_type": "fragment"
    }
   },
   "source": [
    "We can write this as $u'(t) = Au(t)$ with\n",
    "\n",
    "$$A = \\begin{pmatrix} 0 & -1 \\\\ 1 & 0 \\end{pmatrix}.$$"
   ]
  },
  {
   "cell_type": "markdown",
   "metadata": {
    "slideshow": {
     "slide_type": "fragment"
    }
   },
   "source": [
    "With Euler's method, we get\n",
    "\n",
    "$$U^{n+1} = (I+kA)U^n.$$\n",
    "\n",
    "To avoid that the solution (and error) blow up we need $$\\|I+kA\\|\\le 1.$$"
   ]
  },
  {
   "cell_type": "markdown",
   "metadata": {
    "slideshow": {
     "slide_type": "slide"
    }
   },
   "source": [
    "This is just the same as requiring that, for each eigenvalue of $A$, $k\\lambda$ must be inside the stability region.\n",
    "What values of $k$ are acceptable?"
   ]
  },
  {
   "cell_type": "code",
   "execution_count": null,
   "metadata": {
    "slideshow": {
     "slide_type": "fragment"
    }
   },
   "outputs": [],
   "source": [
    "A = np.array([[0,-1.],[1.,0]])\n",
    "T = 2.\n",
    "k = 0.1\n",
    "t=np.arange(0,T+k,k)\n",
    "U=np.zeros((2,len(t)))\n",
    "U[0,0] = 1.\n",
    "U[1,0] = 0.\n",
    "for n in range(len(t)-1):\n",
    "    U[:,n+1] = U[:,n] + k*A@U[:,n]\n",
    "\n",
    "plt.title('Forward Euler')\n",
    "plt.plot(t,U[0,:])\n",
    "plt.plot(t,np.cos(t),'--k');\n",
    "plt.legend(['Numerical','Exact']);"
   ]
  },
  {
   "cell_type": "code",
   "execution_count": null,
   "metadata": {
    "slideshow": {
     "slide_type": "slide"
    }
   },
   "outputs": [],
   "source": [
    "A = np.array([[0,-1.],[1.,0]])\n",
    "T = 20.\n",
    "k = 0.1\n",
    "t=np.arange(0,T+k,k)\n",
    "U=np.zeros((2,len(t)))\n",
    "U[0,0] = 1.\n",
    "U[1,0] = 0.\n",
    "for n in range(len(t)-1):\n",
    "    U[:,n+1] = U[:,n] + k*A@U[:,n]\n",
    "\n",
    "plt.title('Forward Euler')\n",
    "plt.plot(t,U[0,:])\n",
    "plt.plot(t,np.cos(t),'--k');\n",
    "plt.legend(['Numerical','Exact']);"
   ]
  },
  {
   "cell_type": "code",
   "execution_count": null,
   "metadata": {
    "slideshow": {
     "slide_type": "slide"
    }
   },
   "outputs": [],
   "source": [
    "A = np.array([[0,-1.],[1.,0]])\n",
    "T = 200.\n",
    "k = 0.1\n",
    "t=np.arange(0,T+k,k)\n",
    "U=np.zeros((2,len(t)))\n",
    "U[0,0] = 1.\n",
    "U[1,0] = 0.\n",
    "for n in range(len(t)-1):\n",
    "    U[:,n+1] = U[:,n] + k*A@U[:,n]\n",
    "\n",
    "plt.title('Forward Euler')\n",
    "plt.plot(t,U[0,:])\n",
    "plt.plot(t,np.cos(t),'--k');\n",
    "plt.legend(['Numerical','Exact']);"
   ]
  },
  {
   "cell_type": "code",
   "execution_count": null,
   "metadata": {},
   "outputs": [],
   "source": [
    "fig=FE.plot_stability_region();\n",
    "ax = fig.gca()\n",
    "ax.plot([0,0],[-1,1],'ok',markersize=10);"
   ]
  },
  {
   "cell_type": "markdown",
   "metadata": {
    "slideshow": {
     "slide_type": "slide"
    }
   },
   "source": [
    "With the backward Euler method, we get\n",
    "$$U^{n+1} = (I-kA)^{-1}U^n.$$\n",
    "To avoid that the solution (and error) blow up we need $$\\|(I-kA)^{-1}\\|\\le 1.$$\n",
    "What values of $k$ are acceptable?"
   ]
  },
  {
   "cell_type": "code",
   "execution_count": null,
   "metadata": {
    "slideshow": {
     "slide_type": "slide"
    }
   },
   "outputs": [],
   "source": [
    "fig=BE.plot_stability_region(bounds=[-10,5,-5,5]);\n",
    "ax = fig.gca()\n",
    "ax.plot([0,0],[-1,1],'ok',markersize=10);"
   ]
  },
  {
   "cell_type": "code",
   "execution_count": null,
   "metadata": {
    "slideshow": {
     "slide_type": "slide"
    }
   },
   "outputs": [],
   "source": [
    "A = np.array([[0,-1.],[1.,0]])\n",
    "T = 20.\n",
    "k = 0.1\n",
    "t=np.arange(0,T+k,k)\n",
    "U=np.zeros((2,len(t)))\n",
    "U[0,0] = 1.\n",
    "U[1,0] = 0.\n",
    "for n in range(len(t)-1):\n",
    "    U[:,n+1] = np.linalg.solve(np.eye(2) - k*A,U[:,n])\n",
    "\n",
    "plt.title('Backward Euler')\n",
    "plt.plot(t,U[0,:])\n",
    "plt.plot(t,np.cos(t),'--k');"
   ]
  },
  {
   "cell_type": "markdown",
   "metadata": {
    "slideshow": {
     "slide_type": "slide"
    }
   },
   "source": [
    "With the implicit trapezoidal method, we get\n",
    "$$U^{n+1} = (I-kA/2)^{-1}(I+kA/2)U^n.$$\n",
    "\n",
    "What values of $k$ are acceptable?"
   ]
  },
  {
   "cell_type": "code",
   "execution_count": null,
   "metadata": {
    "slideshow": {
     "slide_type": "slide"
    }
   },
   "outputs": [],
   "source": [
    "A = np.array([[0,-1.],[1.,0]])\n",
    "T = 40.\n",
    "k = 0.5\n",
    "t=np.arange(0,T+k,k)\n",
    "U=np.zeros((2,len(t)))\n",
    "U[0,0] = 1.\n",
    "U[1,0] = 0.\n",
    "I = np.eye(2)\n",
    "for n in range(len(t)-1):\n",
    "    U[:,n+1] = np.linalg.solve(I - k/2*A,(I+k/2*A)@U[:,n])\n",
    "\n",
    "plt.title('Implicit Trapezoidal')\n",
    "plt.plot(t,U[0,:])\n",
    "plt.plot(t,np.cos(t),'--k');"
   ]
  },
  {
   "cell_type": "code",
   "execution_count": null,
   "metadata": {
    "slideshow": {
     "slide_type": "slide"
    }
   },
   "outputs": [],
   "source": [
    "fig=trapezoidal.plot_stability_region(bounds=[-10,5,-5,5]);\n",
    "ax = fig.gca()\n",
    "ax.plot([0,0],[-1,1],'ok',markersize=10);"
   ]
  },
  {
   "cell_type": "markdown",
   "metadata": {
    "slideshow": {
     "slide_type": "slide"
    }
   },
   "source": [
    "## Absolute stability for linear multistep methods\n",
    "\n",
    "Given a multistep method\n",
    "\n",
    "$$ \\sum_{j=0}^r \\alpha_j U^{n+j} = k \\sum_{j=0}^r \\beta_j f(U^{n+j})$$\n",
    "\n",
    "we again apply it to the test problem\n",
    "\n",
    "$$ u'(t) = \\lambda u(t).$$"
   ]
  },
  {
   "cell_type": "markdown",
   "metadata": {
    "slideshow": {
     "slide_type": "fragment"
    }
   },
   "source": [
    "This gives\n",
    "\n",
    "$$\\sum_{j=0}^r \\alpha_j U^{n+j} = k \\sum_{j=0}^r \\beta_j \\lambda U^{n+j} = z \\sum_{j=0}^r \\beta_j U^{n+j}$$\n",
    "\n",
    "or\n",
    "\n",
    "$$\\sum_{j=0}^r (\\alpha_j - z \\beta_j) U^{n+j} = 0.$$"
   ]
  },
  {
   "cell_type": "markdown",
   "metadata": {
    "slideshow": {
     "slide_type": "slide"
    }
   },
   "source": [
    "Similarly, for the error we find\n",
    "$$\\sum_{j=0}^r (\\alpha_j - z \\beta_j) E^{n+j} = k \\tau^n.$$"
   ]
  },
  {
   "cell_type": "markdown",
   "metadata": {
    "slideshow": {
     "slide_type": "slide"
    }
   },
   "source": [
    "$$\\sum_{j=0}^r (\\alpha_j - z \\beta_j) E^{n+j} = k \\tau^n.$$\n",
    "\n",
    "The error will grow if the polynomial\n",
    "\n",
    "$$\\pi(\\zeta; z) = \\sum_{j=0}^r (\\alpha_j - z \\beta_j) \\zeta^{j} = 0$$\n",
    "\n",
    "has roots with magnitude greater than one."
   ]
  },
  {
   "cell_type": "markdown",
   "metadata": {
    "slideshow": {
     "slide_type": "fragment"
    }
   },
   "source": [
    "For example, for the leapfrog method\n",
    "$$U^{n+2} = U^n + 2k f(U^{n+1})$$"
   ]
  },
  {
   "cell_type": "markdown",
   "metadata": {
    "slideshow": {
     "slide_type": "fragment"
    }
   },
   "source": [
    "we have for the linear test problem\n",
    "\n",
    "$$U^{n+2} - 2z U^{n+1} - U^n = 0$$"
   ]
  },
  {
   "cell_type": "markdown",
   "metadata": {
    "slideshow": {
     "slide_type": "fragment"
    }
   },
   "source": [
    "so\n",
    "$$\\pi(\\zeta;z) = \\zeta^2 - 2z \\zeta - 1$$\n",
    "\n",
    "What are the roots?"
   ]
  },
  {
   "cell_type": "markdown",
   "metadata": {
    "slideshow": {
     "slide_type": "fragment"
    }
   },
   "source": [
    "$$\\zeta_\\pm = z \\pm \\sqrt{z^2 + 1}$$"
   ]
  },
  {
   "cell_type": "markdown",
   "metadata": {
    "slideshow": {
     "slide_type": "slide"
    }
   },
   "source": [
    "What is the stability region?"
   ]
  },
  {
   "cell_type": "code",
   "execution_count": null,
   "metadata": {
    "slideshow": {
     "slide_type": "fragment"
    }
   },
   "outputs": [],
   "source": [
    "alpha = np.array([-1.,0.,1.])\n",
    "beta = np.array([0.,2.,0.])\n",
    "leapfrog = lm.LinearMultistepMethod(alpha,beta)\n",
    "\n",
    "leapfrog.plot_stability_region();"
   ]
  },
  {
   "cell_type": "code",
   "execution_count": null,
   "metadata": {
    "slideshow": {
     "slide_type": "slide"
    }
   },
   "outputs": [],
   "source": [
    "ab2 = lm.Adams_Bashforth(2)\n",
    "ab2.plot_stability_region();"
   ]
  },
  {
   "cell_type": "code",
   "execution_count": null,
   "metadata": {
    "slideshow": {
     "slide_type": "slide"
    }
   },
   "outputs": [],
   "source": [
    "bdf4 = lm.backward_difference_formula(4)\n",
    "bdf4.plot_stability_region();"
   ]
  }
 ],
 "metadata": {
  "kernelspec": {
   "display_name": "Python 3 (ipykernel)",
   "language": "python",
   "name": "python3"
  },
  "language_info": {
   "codemirror_mode": {
    "name": "ipython",
    "version": 3
   },
   "file_extension": ".py",
   "mimetype": "text/x-python",
   "name": "python",
   "nbconvert_exporter": "python",
   "pygments_lexer": "ipython3",
   "version": "3.10.4"
  },
  "toc": {
   "base_numbering": 1,
   "nav_menu": {},
   "number_sections": true,
   "sideBar": true,
   "skip_h1_title": false,
   "title_cell": "Table of Contents",
   "title_sidebar": "Contents",
   "toc_cell": false,
   "toc_position": {},
   "toc_section_display": true,
   "toc_window_display": false
  }
 },
 "nbformat": 4,
 "nbformat_minor": 4
}
