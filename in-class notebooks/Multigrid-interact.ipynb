{
 "cells": [
  {
   "cell_type": "code",
   "execution_count": null,
   "metadata": {},
   "outputs": [],
   "source": [
    "%matplotlib inline\n",
    "import numpy as np\n",
    "import matplotlib.pyplot as plt\n",
    "from ipywidgets import interact, widgets\n",
    "\n",
    "# To make the text in plots easier to read:\n",
    "font = {'family' : 'Arial',\n",
    "        'size'   : 18}\n",
    "import matplotlib\n",
    "matplotlib.rc('font', **font)"
   ]
  },
  {
   "cell_type": "code",
   "execution_count": null,
   "metadata": {},
   "outputs": [],
   "source": [
    "def coarsen(f):\n",
    "    return f[1::2]  # This slicing just takes the odd-numbered points\n",
    "\n",
    "def interpolate(f,alpha,beta):\n",
    "    m_coarse=len(f)\n",
    "    m_fine  =2*m_coarse+1\n",
    "    f_interp = np.zeros(m_fine)\n",
    "    f_interp[1::2]=f                          #Set the values of the odd numbered points\n",
    "    f_interp[2:-1:2]=0.5*(f[:-1]+f[1:])       #Set the values of the (interior) even numbered points\n",
    "    f_interp[0]=0.5*(f_interp[1]+alpha)     #Set the values of the endpoints\n",
    "    f_interp[-1]=0.5*(f_interp[-2]+beta)\n",
    "    return f_interp\n",
    "\n",
    "def Jacobi(U,f,alpha,beta,m,nu,omega=2./3):\n",
    "    \"\"\"Perform nu Jacobi iterations on a grid with m points, with initial guess U, right hand side function f and \n",
    "       Dirichlet boundary conditions with values alpha and beta.  The function returns both the approximate\n",
    "       solution and the residual.\"\"\"\n",
    "    h=1./(m+1)\n",
    "    F=0.5*h**2*f.copy()\n",
    "    F[0]-=alpha/2.; F[-1]-=beta/2.\n",
    "    e=np.ones(m-1)\n",
    "    G=0.5*(np.diag(e,-1)+np.diag(e,1))\n",
    "    for i in range(nu):\n",
    "        U=(1.-omega)*U + omega*(np.dot(G,U)-F)\n",
    "    A=2./h**2*(G-np.eye(m))\n",
    "    FF=f.copy(); FF[0]-=alpha/h**2; FF[-1]-=beta/h**2\n",
    "    rr=FF-np.dot(A,U)\n",
    "    return U,rr"
   ]
  },
  {
   "cell_type": "code",
   "execution_count": null,
   "metadata": {},
   "outputs": [],
   "source": [
    "phi = lambda x: 20.* np.pi * x**3\n",
    "f = lambda x: -20 + 0.5*120*np.pi*x * np.cos(phi(x)) - 0.5*(60*np.pi*x**2)**2 * np.sin(phi(x))\n",
    "    \n",
    "def Vcycle(k,nu,omega,smooth_after_interp=True):\n",
    "    m=2**k-1\n",
    "    rdep=k-1  # Recursion depth; this is how many grids down we want to go\n",
    "              # rdep=k-1 gives a full V-cycle\n",
    "    alpha=1.; beta=3.\n",
    "    U=np.linspace(alpha,beta,m)  # Initial guess\n",
    "    x=np.linspace(0,1,m+2); x=x[1:-1]  # grid\n",
    "    u = 1.+12.*x-10.*x**2 + 0.5*np.sin(phi(x))\n",
    "\n",
    "    F=f(x)\n",
    "    r=[None]*(rdep+1); error=[None]*(rdep+1) # This just initializes these lists to have the right length\n",
    "    U,rr=Jacobi(U,F,alpha,beta,m,nu,omega)  # Initial iteration on fine grid\n",
    "    for i in range(1,rdep+1): # Going down\n",
    "        m=(m-1)//2 #  = 2**(k-i) - 1\n",
    "        r[i]=coarsen(rr)             # residual restricted to next coarser grid\n",
    "        error[i],rr=Jacobi(np.zeros(m),-r[i],0.,0.,m,nu,omega)\n",
    "    for i in range(1,rdep): # Coming up\n",
    "        m=2*m+1\n",
    "        err=error[rdep-i]-interpolate(error[rdep+1-i],0,0)     # Interpolate and subtract the correction\n",
    "        if smooth_after_interp:\n",
    "            error[-i-1],rr=Jacobi(err,-r[rdep-i],0.,0.,m,nu,omega)\n",
    "        else:\n",
    "            error[-i-1] = err\n",
    "\n",
    "    m=2*m+1\n",
    "    U=U-interpolate(error[1],0,0)                   # final solution correction\n",
    "    U,rr=Jacobi(U,F,alpha,beta,m,nu,omega)                #Final iterations on original grid\n",
    "    \n",
    "    fig, ax = plt.subplots(figsize=(12,8),subplot_kw={'facecolor':'#EEEEEE',\n",
    "                                       'axisbelow':True})\n",
    "    ax = plt.axes(xlim=(0, 1), ylim=(-5,6))\n",
    "    ax.plot(x,u,x,U,'o-',x,U-u);\n",
    "    plt.legend(['Exact','Jacobi','Error'],loc='best')\n",
    "    #return fig\n",
    "\n",
    "interact(Vcycle, \n",
    "               k=widgets.IntSlider(min=5,max=10,value=8), \n",
    "               nu=widgets.IntSlider(min=1,max=6,value=1,name='$\\nu$'),\n",
    "               omega=widgets.FloatSlider(min=0,max=1,step=0.05,value=2./3),\n",
    "               smooth_after_interp=widgets.Checkbox(name='Smooth after interpolation'));"
   ]
  },
  {
   "cell_type": "code",
   "execution_count": null,
   "metadata": {},
   "outputs": [],
   "source": [
    "Vcycle(8,3,2./3)"
   ]
  },
  {
   "cell_type": "code",
   "execution_count": null,
   "metadata": {},
   "outputs": [],
   "source": []
  }
 ],
 "metadata": {
  "kernelspec": {
   "display_name": "Python 3 (ipykernel)",
   "language": "python",
   "name": "python3"
  },
  "language_info": {
   "codemirror_mode": {
    "name": "ipython",
    "version": 3
   },
   "file_extension": ".py",
   "mimetype": "text/x-python",
   "name": "python",
   "nbconvert_exporter": "python",
   "pygments_lexer": "ipython3",
   "version": "3.10.1"
  },
  "toc": {
   "base_numbering": 1,
   "nav_menu": {},
   "number_sections": true,
   "sideBar": true,
   "skip_h1_title": false,
   "title_cell": "Table of Contents",
   "title_sidebar": "Contents",
   "toc_cell": false,
   "toc_position": {},
   "toc_section_display": true,
   "toc_window_display": false
  }
 },
 "nbformat": 4,
 "nbformat_minor": 1
}
