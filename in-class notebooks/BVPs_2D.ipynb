{
 "cells": [
  {
   "cell_type": "code",
   "execution_count": null,
   "metadata": {},
   "outputs": [],
   "source": [
    "%matplotlib inline\n",
    "import numpy as np\n",
    "import matplotlib.pyplot as plt\n",
    "from scipy.sparse import spdiags,linalg"
   ]
  },
  {
   "cell_type": "markdown",
   "metadata": {},
   "source": [
    "Here's a function to construct the 5-point Laplacian finite difference formula  \n",
    "$$\\frac{1}{h^2}\\left(U_{i-1,j}+U_{i+1,j}+U_{i,j-1}+U_{i,j+1}-4U_{ij}\\right)$$  \n",
    "as a matrix $A$, so that the product $AU$ gives the formula above when $U$ is constructed using  \n",
    "the natural row-wise ordering:  "
   ]
  },
  {
   "cell_type": "code",
   "execution_count": null,
   "metadata": {},
   "outputs": [],
   "source": [
    "def five_pt_laplacian(m):\n",
    "    e=np.ones(m**2)\n",
    "    e2=([0]+[1]*(m-1))*m\n",
    "    h=1./(m+1)\n",
    "    A=np.diag(-4*e,0)+np.diag(e2[1:],-1)+np.diag(e2[1:],1)+np.diag(e[m:],m)+np.diag(e[m:],-m)\n",
    "    A/=h**2\n",
    "    return A"
   ]
  },
  {
   "cell_type": "markdown",
   "metadata": {},
   "source": [
    "Matplotlib has a nice spy() command, just like MATLAB's, which shows us  the structure of $A$ (note here the structure of the +1 and -1  diagonals):  "
   ]
  },
  {
   "cell_type": "code",
   "execution_count": null,
   "metadata": {},
   "outputs": [],
   "source": [
    "A=five_pt_laplacian(4)\n",
    "plt.spy(A)"
   ]
  },
  {
   "cell_type": "markdown",
   "metadata": {},
   "source": [
    "Notice that each row has at most 5 non-zero entries, and at least $m^2-5$ entries equal to zero. The function above constructs a full matrix, meaning all those zeros are stored in memory. This will take up a lot of memory! We might as well just store the non-zero entries. This is done with the following code (take a look at the help for spdiags):  "
   ]
  },
  {
   "cell_type": "code",
   "execution_count": null,
   "metadata": {},
   "outputs": [],
   "source": [
    "def five_pt_laplacian_sparse(m):\n",
    "    e=np.ones(m**2)\n",
    "    e2=([1]*(m-1)+[0])*m\n",
    "    e3=([0]+[1]*(m-1))*m\n",
    "    h=1./(m+1)\n",
    "    A=spdiags([-4*e,e2,e3,e,e],[0,-1,1,-m,m],m**2,m**2)\n",
    "    A/=h**2\n",
    "    return A"
   ]
  },
  {
   "cell_type": "markdown",
   "metadata": {},
   "source": [
    "Another tool we need is a way to transform a matrix whose $i,j$ entry corresponds to the point $x_i,y_j$ on the grid into a vector using the natural row-wise ordering. Like MATLAB, numpy has a reshape() command that does just this:  "
   ]
  },
  {
   "cell_type": "code",
   "execution_count": null,
   "metadata": {},
   "outputs": [],
   "source": [
    "U=np.array([[1,2,3],[4,5,6],[7,8,9]])\n",
    "print(U)\n",
    "print(U.reshape([9]))"
   ]
  },
  {
   "cell_type": "code",
   "execution_count": null,
   "metadata": {},
   "outputs": [],
   "source": [
    "V = U.reshape(-1)\n",
    "print(V)"
   ]
  },
  {
   "cell_type": "markdown",
   "metadata": {},
   "source": [
    "Now let's solve the 2D BVP  \n",
    "\n",
    "$$\\nabla^2 u = -(20y^3+9\\pi^2(y-y^5))\\sin(3\\pi x)$$  \n",
    "\n",
    "on the unit square $[0,1]\\times[0,1]$ with homogeneous Dirichlet boundary conditions (i.e., $u(x,y)=0$ everywhere on the boundary):  "
   ]
  },
  {
   "cell_type": "code",
   "execution_count": null,
   "metadata": {},
   "outputs": [],
   "source": [
    "# Define the RHS function:\n",
    "f = lambda x,y: -(20*y**3+9*np.pi**2*(y-y**5.))*np.sin(3*np.pi*x)\n",
    "\n",
    "#Set up the grid:\n",
    "m=100\n",
    "x=np.linspace(0,1,m+2); x=x[1:-1]\n",
    "y=np.linspace(0,1,m+2); y=y[1:-1]\n",
    "X,Y=np.meshgrid(x,y)\n",
    "#Set up and solve the linear system\n",
    "A=five_pt_laplacian_sparse(m).tocsr()\n",
    "F=f(X,Y).reshape([m**2])\n",
    "U=linalg.spsolve(A,F)"
   ]
  },
  {
   "cell_type": "code",
   "execution_count": null,
   "metadata": {},
   "outputs": [],
   "source": [
    "plt.pcolor(X,Y,f(X,Y));\n",
    "plt.colorbar();"
   ]
  },
  {
   "cell_type": "markdown",
   "metadata": {},
   "source": [
    "In order to plot the solution, we reshape $U$ to be the shape of the grid:  "
   ]
  },
  {
   "cell_type": "code",
   "execution_count": null,
   "metadata": {},
   "outputs": [],
   "source": [
    "U=U.reshape([m,m])\n",
    "plt.pcolor(X,Y,U)\n",
    "plt.colorbar();"
   ]
  },
  {
   "cell_type": "markdown",
   "metadata": {},
   "source": [
    "How accurate is this solution? We can check by plotting the difference between the computed and exact values.  \n",
    "In fact, the problem above was obtained by taking  \n",
    "$$u(x,y) = (y-y^5)\\sin(3\\pi x)$$  \n",
    "and computing the Laplacian of $u$. Notice that $u=0$ on the boundaries.  "
   ]
  },
  {
   "cell_type": "code",
   "execution_count": null,
   "metadata": {},
   "outputs": [],
   "source": [
    "U_exact=[]\n",
    "U_exact=(Y-Y**5)*np.sin(3*np.pi*X)\n",
    "plt.clf()\n",
    "plt.pcolor(X,Y,U_exact-U)\n",
    "plt.colorbar()"
   ]
  },
  {
   "cell_type": "markdown",
   "metadata": {},
   "source": [
    "## Kronecker product approach"
   ]
  },
  {
   "cell_type": "code",
   "execution_count": null,
   "metadata": {},
   "outputs": [],
   "source": [
    "def laplacian_1D(m):\n",
    "    em = np.ones(m)\n",
    "    e1=np.ones(m-1)\n",
    "    return (np.diag(-2*em,0)+np.diag(e1,-1)+np.diag(e1,1))*(m+1)**2"
   ]
  },
  {
   "cell_type": "code",
   "execution_count": null,
   "metadata": {},
   "outputs": [],
   "source": [
    "def laplacian_2D(m):\n",
    "    I = np.eye(m)\n",
    "    A = laplacian_1D(m)\n",
    "    return np.kron(A,I) + np.kron(I,A)"
   ]
  },
  {
   "cell_type": "code",
   "execution_count": null,
   "metadata": {},
   "outputs": [],
   "source": [
    "plt.spy(laplacian_2D(4));"
   ]
  },
  {
   "cell_type": "code",
   "execution_count": null,
   "metadata": {},
   "outputs": [],
   "source": [
    "print(laplacian_2D(3))"
   ]
  },
  {
   "cell_type": "code",
   "execution_count": null,
   "metadata": {},
   "outputs": [],
   "source": []
  }
 ],
 "metadata": {
  "kernelspec": {
   "display_name": "Python 3 (ipykernel)",
   "language": "python",
   "name": "python3"
  },
  "language_info": {
   "codemirror_mode": {
    "name": "ipython",
    "version": 3
   },
   "file_extension": ".py",
   "mimetype": "text/x-python",
   "name": "python",
   "nbconvert_exporter": "python",
   "pygments_lexer": "ipython3",
   "version": "3.10.4"
  },
  "toc": {
   "base_numbering": 1,
   "nav_menu": {},
   "number_sections": true,
   "sideBar": true,
   "skip_h1_title": false,
   "title_cell": "Table of Contents",
   "title_sidebar": "Contents",
   "toc_cell": false,
   "toc_position": {},
   "toc_section_display": true,
   "toc_window_display": false
  }
 },
 "nbformat": 4,
 "nbformat_minor": 1
}
