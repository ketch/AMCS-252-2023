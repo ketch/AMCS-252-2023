{
 "cells": [
  {
   "cell_type": "markdown",
   "metadata": {
    "slideshow": {
     "slide_type": "slide"
    }
   },
   "source": [
    "# The Heat Equation "
   ]
  },
  {
   "cell_type": "markdown",
   "metadata": {
    "slideshow": {
     "slide_type": "slide"
    }
   },
   "source": [
    "## The method of lines\n",
    "\n",
    "(go to keynote)"
   ]
  },
  {
   "cell_type": "markdown",
   "metadata": {
    "slideshow": {
     "slide_type": "fragment"
    }
   },
   "source": [
    "The method of lines turns an initial boundary value PDE onto an initial value ODE.\n",
    "\n",
    "The resulting system of ODEs may be very large.  For instance, if we have a PDE in 3 space dimensions, and discretize with 1000 points in each direction, we have one billion ODEs."
   ]
  },
  {
   "cell_type": "markdown",
   "metadata": {
    "slideshow": {
     "slide_type": "slide"
    }
   },
   "source": [
    "## Numerical methods for the heat equation\n",
    "\n",
    "\n",
    "$$u_t = u_{xx}$$\n",
    "$$u(x,t=0) = u_0(x)$$\n",
    "$$u(x=\\alpha,t) = u(x=\\beta,t) = 0$$\n",
    "\n",
    "Grid in $x$: $x_0=\\alpha, x_1, x_2, \\dots, x_m, x_{m+1}=\\beta$. \n",
    "\n",
    "$x_i - x_{i-1} = h$\n",
    "\n",
    "We studied the steady-state version of this problem earlier in the course."
   ]
  },
  {
   "cell_type": "markdown",
   "metadata": {
    "slideshow": {
     "slide_type": "slide"
    }
   },
   "source": [
    "First we discretize in space.  For instance, we can use a 2nd-order centered difference:\n",
    "\n",
    "$$u_{xx}|_{x=x_i} \\approx \\frac{U_{i+1} - 2U_i + U_{i-1}}{h^2}$$"
   ]
  },
  {
   "cell_type": "markdown",
   "metadata": {
    "slideshow": {
     "slide_type": "fragment"
    }
   },
   "source": [
    "We get the ODE system $U'(t) = AU(t)$:\n",
    "\n",
    "$$\\begin{bmatrix}  U_1 \\\\ \\vdots \\\\ U_m \\end{bmatrix}' =  \\frac{1}{h^2}\\begin{bmatrix} -2 & 1 & \\\\ 1 & -2 & 1 & \\\\ & 1 & -2 & 1 & \\\\ && \\ddots & \\ddots & \\ddots \\\\ & & & 1 & -2 \\end{bmatrix} \\begin{bmatrix} U_1 \\\\ \\vdots \\\\ U_m \\end{bmatrix}$$\n",
    "\n",
    "Now we can apply any ODE solver we like, such as a Runge-Kutta or linear multistep method."
   ]
  },
  {
   "cell_type": "markdown",
   "metadata": {
    "slideshow": {
     "slide_type": "fragment"
    }
   },
   "source": [
    "What time step size $k$ should we use?"
   ]
  },
  {
   "cell_type": "markdown",
   "metadata": {
    "slideshow": {
     "slide_type": "slide"
    }
   },
   "source": [
    "Recall the eigenvalues of $A$:\n",
    "\n",
    "$$\\lambda_p = \\frac{2}{h^2} (\\cos(p\\pi h)-1)$$\n",
    "\n",
    "All eigenvalues are real and negative.  Earlier, we were interested in the behavior of $A^{-1}$ as $h\\to 0$, so we studied the smallest eigenvalue of $A$.\n",
    "\n",
    "Now we are interested in whether the eigenvalues of $A$ all fit within the absolute stability region of our ODE solver, so we will study the largest eigenvalue of $A$.  How large is it?"
   ]
  },
  {
   "cell_type": "markdown",
   "metadata": {
    "slideshow": {
     "slide_type": "fragment"
    }
   },
   "source": [
    "The largest eigenvalue $\\lambda_\\text{max}$ is obtained when the cosine is approximately -1, giving \n",
    "\n",
    "$$\\lambda_\\text{max}\\approx -4/h^2.$$"
   ]
  },
  {
   "cell_type": "markdown",
   "metadata": {
    "slideshow": {
     "slide_type": "slide"
    }
   },
   "source": [
    "$$U'(t) = AU(t)$$\n",
    "\n",
    "Suppose we discretize with the explicit Euler method:\n",
    "\n",
    "$$U^{n+1} = U^n + kAU^n$$\n",
    "\n",
    "How large can we take $k$?"
   ]
  },
  {
   "cell_type": "markdown",
   "metadata": {
    "slideshow": {
     "slide_type": "fragment"
    }
   },
   "source": [
    "We need \n",
    "\n",
    "$$-\\frac{4}{h^2}k \\ge -2$$\n",
    "\n",
    "so we have to take\n",
    "\n",
    "$$k \\le \\frac{h^2}{2}.$$"
   ]
  },
  {
   "cell_type": "markdown",
   "metadata": {
    "slideshow": {
     "slide_type": "fragment"
    }
   },
   "source": [
    "We'd like to use a small $h$ to get good accuracy, but then we will need an extremely small value of $k$.\n",
    "\n",
    "In fact, if we apply any explicit method, we'll need to take $k = {\\mathcal O}(h^2)$."
   ]
  },
  {
   "cell_type": "markdown",
   "metadata": {
    "slideshow": {
     "slide_type": "slide"
    }
   },
   "source": [
    "## Local truncation error\n",
    "\n",
    "We can write the full discretization using Euler in time and a 3-point centered difference in space:\n",
    "\n",
    "$$\n",
    "\\frac{U_i^{n+1} - U_i^n}{k} = \\frac{U_{i+1}^n - 2U_i^n + U_{i-1}^n}{h^2}.\n",
    "$$\n",
    "\n",
    "What is the local truncation error?"
   ]
  },
  {
   "cell_type": "markdown",
   "metadata": {
    "slideshow": {
     "slide_type": "fragment"
    }
   },
   "source": [
    "We substitute the exact solution:\n",
    "    \n",
    "$$\n",
    "  \\frac{u(x_i,t_n+k) - u(x_i,t_n)}{k} = \\frac{u(x_{i+1},t_n)-2u(x_i,t_n)+u(x_{i-1},t_n)}{h^2} + \\tau_i^n.\n",
    "$$"
   ]
  },
  {
   "cell_type": "markdown",
   "metadata": {
    "slideshow": {
     "slide_type": "fragment"
    }
   },
   "source": [
    "We have worked these out before:\n",
    "\n",
    "$$\\frac{u(x_i,t_n+k) - u(x_i,t_n)}{k} = u_t + \\frac{k}{2}u_{tt} + \\frac{k^2}{6}u_{ttt} + {\\mathcal O}(k^3)$$\n",
    "\n",
    "$$\\frac{u(x_{i+1},t_n)-2u(x_i,t_n)+u(x_{i-1},t_n)}{h^2} = u_{xx} + \\frac{h^2}{12}u_{xxxx} + {\\mathcal O}(h^4)$$"
   ]
  },
  {
   "cell_type": "markdown",
   "metadata": {
    "slideshow": {
     "slide_type": "slide"
    }
   },
   "source": [
    "Thus we have\n",
    "\n",
    "\\begin{align*}\n",
    "    \\tau_i^n & = u_t - u_{xx} + \\frac{k}{2}u_{tt} - \\frac{h^2}{12} u_{xxxx} + {\\mathcal O}(k^2) + {\\mathcal O}(h^4) \\\\\n",
    "            & = \\frac{k}{2}u_{tt} - \\frac{h^2}{12} u_{xxxx} + {\\mathcal O}(k^2) + {\\mathcal O}(h^4)\n",
    "\\end{align*}"
   ]
  },
  {
   "cell_type": "markdown",
   "metadata": {
    "slideshow": {
     "slide_type": "fragment"
    }
   },
   "source": [
    "We see that the method is first order in time and second order in space, just as we would expect.\n",
    "\n",
    "The method of lines allows us to choose independently the order of accuracy of our discretization in time and space.  Usually we would like to match them."
   ]
  },
  {
   "cell_type": "markdown",
   "metadata": {
    "slideshow": {
     "slide_type": "slide"
    }
   },
   "source": [
    "# Stiffness and the behavior of the heat equation\n",
    "The heat equation is infinitely stiff, and when we discretize it in space we get a very stiff system of ODEs.  Let's investigate."
   ]
  },
  {
   "cell_type": "markdown",
   "metadata": {
    "slideshow": {
     "slide_type": "slide"
    }
   },
   "source": [
    "Consider the problem on $[0,1]$ with homogeneous Dirichlet boundary conditions:\n",
    "\\begin{align*}\n",
    "    u_t & = u_{xx} \\\\\n",
    "    u(0,t) & = u(1,t) = 0 \\\\\n",
    "    u(x,0) & = u_0(x).\n",
    "\\end{align*}"
   ]
  },
  {
   "cell_type": "markdown",
   "metadata": {
    "slideshow": {
     "slide_type": "fragment"
    }
   },
   "source": [
    "In your PDEs course you learned how to solve this.  We can write the solution as a sum of sine functions:\n",
    "\n",
    "$$\n",
    "u(x,t) = \\sum_{j=1}^\\infty \\hat{u}_j(t) \\sin(j\\pi x).\n",
    "$$\n",
    "\n",
    "Plugging this into the PDE gives\n",
    "\n",
    "$$\n",
    "\\hat{u}'_j(t) = -j^2 \\pi^2 \\hat{u}_j(t),\n",
    "$$\n",
    "\n",
    "with solution\n",
    "\n",
    "$$\n",
    "\\hat{u}_j(t) = e^{-j^2\\pi^2 t} \\hat{u}_j(0).\n",
    "$$"
   ]
  },
  {
   "cell_type": "markdown",
   "metadata": {
    "slideshow": {
     "slide_type": "slide"
    }
   },
   "source": [
    "Thus we have\n",
    "\n",
    "$$\n",
    "u(x,t) = \\sum_{j=1}^\\infty \\hat{u}_j(0) e^{-j^2\\pi^2t}\\sin(j\\pi x).\n",
    "$$\n",
    "\n",
    "Notice that the shorter-wavelength modes decay much more quickly.  For $j=1$ the time dependence is $e^{-\\pi^2t}$,\n",
    "while for the $j=100$ mode it is $e^{-10000\\pi^2t}$!"
   ]
  },
  {
   "cell_type": "code",
   "execution_count": null,
   "metadata": {
    "slideshow": {
     "slide_type": "skip"
    }
   },
   "outputs": [],
   "source": [
    "%matplotlib inline\n",
    "import numpy as np\n",
    "import matplotlib.pyplot as plt\n",
    "import matplotlib\n",
    "from matplotlib import animation\n",
    "from IPython.display import HTML\n",
    "\n",
    "a = 0.2; b=0.1   # CHANGE THESE\n",
    "\n",
    "# Spatial grid\n",
    "m=512                            # Number of grid points in space\n",
    "L = 2 * np.pi                   # Width of spatial domain\n",
    "x = np.arange(-m/2,m/2)*(L/m)   # Grid points\n",
    "dx = x[1]-x[0]                  # Grid spacing\n",
    "\n",
    "# Temporal grid\n",
    "tmax=1.0     # Final time\n",
    "N = 100       # number grid points in time\n",
    "k = tmax/N   # interval between output times\n",
    "\n",
    "xi = np.fft.fftfreq(m)*m*2*np.pi/L  # Wavenumber \"grid\"\n",
    "# (this is the order in which numpy's FFT gives the frequencies)\n",
    "\n",
    "# Initial data\n",
    "u = (np.sin(2*x)**2 + a*np.sin(10*x)**2 + b*np.sin(100*x)) * (np.abs(x)<L/4)\n",
    "#u = (np.sin(2*x)**2) * (x<-L/4)\n",
    "uhat0 = np.fft.fft(u)\n",
    "\n",
    "epsilon=0.1  # Diffusion coefficient\n",
    "a = 0.0       # Advection coefficient\n",
    "\n",
    "# Store solutions in a list for plotting later\n",
    "frames = [u.copy()]\n",
    "\n",
    "# Now we solve the problem\n",
    "for n in range(1,N+1):\n",
    "    t = n*k\n",
    "    uhat = np.exp(-(1.j*xi*a + epsilon*xi**2)*t) * uhat0\n",
    "    u = np.real(np.fft.ifft(uhat))\n",
    "    frames.append(u.copy())\n",
    "\n",
    "# Set up plotting\n",
    "fig = plt.figure(figsize=(9,4)); axes = fig.add_subplot(111)\n",
    "line, = axes.plot(x,np.sin(2*x)**2 * (x<-L/4),lw=2)\n",
    "axes.set_xlim((x[0],x[-1])); axes.set_ylim((-0.2,1.4))\n",
    "\n",
    "def plot_frame(i):\n",
    "    #fig = plt.figure()\n",
    "    #plt.plot(x,frames[i])\n",
    "    line.set_data(x,frames[i])\n",
    "    axes.set_title('t='+str(i*k))\n",
    "    fig.canvas.draw()\n",
    "    return fig\n",
    "\n",
    "# Animate the solution\n",
    "anim = matplotlib.animation.FuncAnimation(fig, plot_frame,\n",
    "                                   frames=len(frames),\n",
    "                                   interval=200,\n",
    "                                   repeat=False);"
   ]
  },
  {
   "cell_type": "code",
   "execution_count": null,
   "metadata": {
    "slideshow": {
     "slide_type": "slide"
    }
   },
   "outputs": [],
   "source": [
    "HTML(anim.to_jshtml())"
   ]
  },
  {
   "cell_type": "markdown",
   "metadata": {
    "slideshow": {
     "slide_type": "slide"
    }
   },
   "source": [
    "We see that:\n",
    "\n",
    " - The high-frequency modes decay very rapidly\n",
    " - The low-frequency modes decay slowly\n",
    " \n",
    "This is very similar to the stiff ODE we looked at.  If we have an initial condition with only low-frequency parts, it will evolve slowly.  But there are \"nearby\" solutions with small high-frequency parts that decay very rapidly.  This makes the problem stiff."
   ]
  },
  {
   "cell_type": "markdown",
   "metadata": {
    "slideshow": {
     "slide_type": "fragment"
    }
   },
   "source": [
    "The time step size we can use is dictated by the decay of the fastest-changing mode.  In the continuous problem, there are modes of arbitrarily high frequency that decay arbitrarily fast, since the derivative of $\\exp(-j^2\\pi^2t)$ blows up as $j \\to \\infty$.  But when we introduce a grid in space, we restrict the range of frequencies that can be represented on our grid, so we end up with a system of ODEs with finite stiffness."
   ]
  },
  {
   "cell_type": "markdown",
   "metadata": {
    "slideshow": {
     "slide_type": "slide"
    }
   },
   "source": [
    "What kind of numerical ODE solver should we use for this problem?"
   ]
  },
  {
   "cell_type": "code",
   "execution_count": null,
   "metadata": {
    "slideshow": {
     "slide_type": "skip"
    }
   },
   "outputs": [],
   "source": [
    "from scipy.optimize import fsolve\n",
    "from nodepy import rk\n",
    "\n",
    "def DIRK(rkm, dt, f, w0=[1.,0], t_final=1.):\n",
    "\n",
    "    w = np.array(w0)\n",
    "    t = 0\n",
    "    # We pre-allocate extra space because if rescale_step==True then\n",
    "    # we don't know exactly how many steps we will take.\n",
    "    ww = np.zeros([len(w0),int((t_final-t)/dt*2.5)+10000])\n",
    "    ww[:,0] = w.copy()\n",
    "    tt = [t]\n",
    "    ii = 0\n",
    "    s = len(rkm)\n",
    "    b = rkm.b\n",
    "    y = np.zeros((s,len(w0)))\n",
    "    \n",
    "    while t < t_final:\n",
    "        if t + dt >= t_final:\n",
    "            dt = t_final - t # Hit final time exactly\n",
    "        \n",
    "        for i in range(s):\n",
    "            stageeq = lambda Y: (Y-w-dt*sum([rkm.A[i,j]*f(y[j,:]) for j in range(i)]) \\\n",
    "                                 - dt*rkm.A[i,i]*f(Y)).squeeze()\n",
    "            nexty, info, ier, mesg = fsolve(stageeq,w,full_output=1)\n",
    "            if ier != 1: print(mesg)\n",
    "            y[i,:] = nexty.copy()\n",
    "  \n",
    "        F = np.array([f(y[i,:]) for i in range(s)])\n",
    "        dw = dt*sum([b[j]*F[j] for j in range(s)])\n",
    "        \n",
    "        w = w + dw    \n",
    "        t += dt\n",
    "        ii += 1\n",
    "        tt.append(t)\n",
    "        ww[:,ii] = w.copy()\n",
    "    return tt, ww[:,:ii+1]\n",
    "    \n",
    "trbdf = rk.loadRKM('TR-BDF2').__num__()\n",
    "be = rk.loadRKM('BE').__num__()\n",
    "irk2 = rk.loadRKM('LobattoIIIA2').__num__()"
   ]
  },
  {
   "cell_type": "code",
   "execution_count": null,
   "metadata": {
    "slideshow": {
     "slide_type": "skip"
    }
   },
   "outputs": [],
   "source": [
    "N=100\n",
    "x = np.linspace(0,1,N)\n",
    "dx = x[1]-x[0]\n",
    "\n",
    "def f_heat(u):\n",
    "    du = np.zeros_like(u)\n",
    "    du[1:-1] = (u[2:]-2*u[1:-1]+u[:-2])\n",
    "    du[0] = -2*u[0]+u[1]\n",
    "    du[-1] = u[-2]-2*u[-1]\n",
    "    return du/dx**2\n",
    "\n",
    "# Smooth initial data\n",
    "u0 = np.exp(-100*(x-0.5)**2)\n",
    "\n",
    "# Non-smooth initial data\n",
    "#u0 = 1.*(0.25<x)*(x<0.75)\n",
    "dt = 1.*dx\n",
    "\n",
    "tt, uu = DIRK(irk2,dt=dt,f=f_heat,w0=u0,t_final=0.1)"
   ]
  },
  {
   "cell_type": "code",
   "execution_count": null,
   "metadata": {
    "slideshow": {
     "slide_type": "skip"
    }
   },
   "outputs": [],
   "source": [
    "from matplotlib import animation\n",
    "\n",
    "fig = plt.figure()\n",
    "line, = plt.plot([],[])\n",
    "plt.title('Implicit Trapezoidal method')\n",
    "plt.ylim(-0.5,2)\n",
    "plt.xlim(0,1)\n",
    "\n",
    "def plot_frame(j):\n",
    "    line.set_data(x,uu[:,j]);\n",
    "    \n",
    "anim = animation.FuncAnimation(fig,plot_frame,frames=uu.shape[1])"
   ]
  },
  {
   "cell_type": "code",
   "execution_count": null,
   "metadata": {
    "scrolled": false,
    "slideshow": {
     "slide_type": "slide"
    }
   },
   "outputs": [],
   "source": [
    "HTML(anim.to_jshtml())"
   ]
  },
  {
   "cell_type": "code",
   "execution_count": null,
   "metadata": {
    "slideshow": {
     "slide_type": "skip"
    }
   },
   "outputs": [],
   "source": [
    "tt, uu = DIRK(trbdf,dt=dt,f=f_heat,w0=u0,t_final=0.1)\n",
    "\n",
    "fig = plt.figure()\n",
    "line, = plt.plot([],[])\n",
    "plt.title('TR-BDF2')\n",
    "plt.ylim(-0.5,2)\n",
    "plt.xlim(0,1)\n",
    "\n",
    "def plot_frame(j):\n",
    "    line.set_data(x,uu[:,j]);\n",
    "    \n",
    "anim = animation.FuncAnimation(fig,plot_frame,frames=uu.shape[1])"
   ]
  },
  {
   "cell_type": "code",
   "execution_count": null,
   "metadata": {
    "slideshow": {
     "slide_type": "slide"
    }
   },
   "outputs": [],
   "source": [
    "HTML(anim.to_jshtml())"
   ]
  },
  {
   "cell_type": "code",
   "execution_count": null,
   "metadata": {},
   "outputs": [],
   "source": []
  }
 ],
 "metadata": {
  "kernelspec": {
   "display_name": "Python 3 (ipykernel)",
   "language": "python",
   "name": "python3"
  },
  "language_info": {
   "codemirror_mode": {
    "name": "ipython",
    "version": 3
   },
   "file_extension": ".py",
   "mimetype": "text/x-python",
   "name": "python",
   "nbconvert_exporter": "python",
   "pygments_lexer": "ipython3",
   "version": "3.10.4"
  },
  "toc": {
   "base_numbering": 1,
   "nav_menu": {},
   "number_sections": true,
   "sideBar": true,
   "skip_h1_title": false,
   "title_cell": "Table of Contents",
   "title_sidebar": "Contents",
   "toc_cell": false,
   "toc_position": {},
   "toc_section_display": true,
   "toc_window_display": false
  }
 },
 "nbformat": 4,
 "nbformat_minor": 2
}
