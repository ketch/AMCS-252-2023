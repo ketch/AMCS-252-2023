{
 "cells": [
  {
   "cell_type": "code",
   "execution_count": null,
   "metadata": {},
   "outputs": [],
   "source": [
    "import numpy as np\n",
    "import matplotlib.pyplot as plt\n",
    "from matplotlib import animation\n",
    "from IPython.display import HTML\n",
    "%matplotlib inline"
   ]
  },
  {
   "cell_type": "markdown",
   "metadata": {},
   "source": [
    "# Forward in time + centered in space"
   ]
  },
  {
   "cell_type": "code",
   "execution_count": null,
   "metadata": {},
   "outputs": [],
   "source": [
    "#Set up grid\n",
    "N=100; dx=1./N;\n",
    "x=np.linspace(0.,1.,N+1)\n",
    "cflnum=0.5;\n",
    "dt=cflnum*dx;\n",
    "t=0.; T=2.0; # Initial and final time\n",
    "\n",
    "#Initial condition:\n",
    "q0 = np.exp(-200*(x-0.3)**2)   # Smooth\n",
    "\n",
    "q=q0.copy();\n",
    "qnew=q0.copy();\n",
    "Q = [q[1:-1].copy()]\n",
    "\n",
    "while t<T:\n",
    "\n",
    "    if dt>T-t: dt=T-t\n",
    "\n",
    "    qnew[1:-1] = q[1:-1] - dt/dx * 0.5*(q[2:]-q[:-2])\n",
    "\n",
    "    # Periodic BCs:\n",
    "    qnew[0]  = q[0] - dt/dx * 0.5*(q[1]-q[-2])\n",
    "    qnew[-1] = qnew[0]\n",
    "    \n",
    "    t=t+dt\n",
    "    Q.append(qnew[1:-1].copy())\n",
    "    q = qnew"
   ]
  },
  {
   "cell_type": "code",
   "execution_count": null,
   "metadata": {},
   "outputs": [],
   "source": [
    "fig = plt.figure()\n",
    "ax = plt.axes(xlim=(0, 1), ylim=(-0.2,2))\n",
    "line1, = ax.plot([],[],'-b',lw=2)\n",
    "skip = 4\n",
    "def fplot(i):\n",
    "    line1.set_data(x[1:-1],Q[i*skip])\n",
    "    return line1, \n",
    "plt.close()\n",
    "\n",
    "anim = animation.FuncAnimation(fig, fplot, frames=range(len(Q)//skip))\n",
    "HTML(anim.to_jshtml())"
   ]
  },
  {
   "cell_type": "markdown",
   "metadata": {},
   "source": [
    "# Centered in time (leapfrog), centered in space"
   ]
  },
  {
   "cell_type": "code",
   "execution_count": null,
   "metadata": {},
   "outputs": [],
   "source": [
    "#Set up grid\n",
    "N=100; dx=1./N;\n",
    "x=np.linspace(0.,1.,N+1)\n",
    "cflnum=0.5;\n",
    "dt=cflnum*dx;\n",
    "t=0.; T=2.0; # Initial and final time\n",
    "\n",
    "#Initial condition:\n",
    "q0 = np.exp(-200*(x-0.3)**2)   # Smooth\n",
    "\n",
    "q=q0.copy();\n",
    "qnew=q0.copy();\n",
    "qold=q0.copy();\n",
    "Q = [q[1:-1].copy()]\n",
    "\n",
    "while t<T:\n",
    "\n",
    "    if dt>T-t: dt=T-t\n",
    "\n",
    "    qnew[1:-1] = qold[1:-1] - dt/dx *(q[2:]-q[:-2])\n",
    "\n",
    "    # Periodic BCs:\n",
    "    qnew[0]  = qold[0] - dt/dx *(q[1]-q[-2])\n",
    "    qnew[-1] = qnew[0]\n",
    "    \n",
    "    t=t+dt\n",
    "    Q.append(qnew[1:-1].copy())\n",
    "    qold = q.copy()\n",
    "    q = qnew.copy()"
   ]
  },
  {
   "cell_type": "code",
   "execution_count": null,
   "metadata": {},
   "outputs": [],
   "source": [
    "anim = animation.FuncAnimation(fig, fplot, frames=range(len(Q)//skip))\n",
    "HTML(anim.to_jshtml())"
   ]
  },
  {
   "cell_type": "markdown",
   "metadata": {},
   "source": [
    "# Leapfrog with discontinuous solution"
   ]
  },
  {
   "cell_type": "code",
   "execution_count": null,
   "metadata": {},
   "outputs": [],
   "source": [
    "#Set up grid\n",
    "N=100; dx=1./N;\n",
    "x=np.linspace(0.,1.,N+1)\n",
    "cflnum=0.5;\n",
    "dt=cflnum*dx;\n",
    "t=0.; T=2.0; # Initial and final time\n",
    "\n",
    "#Initial condition:\n",
    "#q0 = np.exp(-200*(x-0.3)**2)   # Smooth\n",
    "q0 = 1.0*(x>0.2)*(x<0.4)        # Discontinuous\n",
    "\n",
    "q=q0.copy();\n",
    "qnew=q0.copy();\n",
    "qold=q0.copy();\n",
    "Q = [q[1:-1].copy()]\n",
    "\n",
    "while t<T:\n",
    "\n",
    "    if dt>T-t: dt=T-t\n",
    "\n",
    "    qnew[1:-1] = qold[1:-1] - dt/dx *(q[2:]-q[:-2])\n",
    "\n",
    "    # Periodic BCs:\n",
    "    qnew[0]  = qold[0] - dt/dx *(q[1]-q[-2])\n",
    "    qnew[-1] = qnew[0]\n",
    "    \n",
    "    t=t+dt\n",
    "    Q.append(qnew[1:-1].copy())\n",
    "    qold = q.copy()\n",
    "    q = qnew.copy()"
   ]
  },
  {
   "cell_type": "code",
   "execution_count": null,
   "metadata": {},
   "outputs": [],
   "source": [
    "anim = animation.FuncAnimation(fig, fplot, frames=range(len(Q)//skip))\n",
    "HTML(anim.to_jshtml())"
   ]
  },
  {
   "cell_type": "markdown",
   "metadata": {},
   "source": [
    "# Lax-Friedrichs"
   ]
  },
  {
   "cell_type": "code",
   "execution_count": null,
   "metadata": {},
   "outputs": [],
   "source": [
    "#Set up grid\n",
    "N=100; dx=1./N;\n",
    "x=np.linspace(0.,1.,N+1)\n",
    "cflnum=0.99;\n",
    "dt=cflnum*dx;\n",
    "t=0.; T=20.0; # Initial and final time\n",
    "\n",
    "#Initial condition:\n",
    "#q0 = np.exp(-200*(x-0.3)**2)   # Smooth\n",
    "q0 = 1.0*(x>0.7)*(x<0.9)        # Discontinuous\n",
    "\n",
    "q=q0.copy();\n",
    "qnew=q0.copy();\n",
    "Q = [q[1:-1].copy()]\n",
    "\n",
    "while t<T:\n",
    "\n",
    "    if dt>T-t: dt=T-t\n",
    "\n",
    "    qnew[1:-1] = 0.5*(q[2:]+q[:-2]) - dt/dx * 0.5*(q[2:]-q[:-2])\n",
    "\n",
    "    # Periodic BCs:\n",
    "    qnew[0]  = 0.5*(q[1]+q[-2]) - dt/dx * 0.5*(q[1]-q[-2])\n",
    "    qnew[-1] = qnew[0]\n",
    "    \n",
    "    t=t+dt\n",
    "    Q.append(qnew[1:-1].copy())\n",
    "    q = qnew"
   ]
  },
  {
   "cell_type": "code",
   "execution_count": null,
   "metadata": {},
   "outputs": [],
   "source": [
    "anim = animation.FuncAnimation(fig, fplot, frames=range(len(Q)//skip))\n",
    "HTML(anim.to_jshtml())"
   ]
  },
  {
   "cell_type": "markdown",
   "metadata": {},
   "source": [
    "# First-order upwind"
   ]
  },
  {
   "cell_type": "code",
   "execution_count": null,
   "metadata": {},
   "outputs": [],
   "source": [
    "#Set up grid\n",
    "N=100; dx=1./N;\n",
    "x=np.linspace(0.,1.,N+1)\n",
    "cflnum=0.9;\n",
    "dt=cflnum*dx;\n",
    "t=0.; T=2.0; # Initial and final time\n",
    "\n",
    "#Initial condition:\n",
    "#q0 = np.exp(-200*(x-0.3)**2)   # Smooth\n",
    "q0 = 1.0*(x>0.1)*(x<0.3)        # Discontinuous\n",
    "\n",
    "q=q0.copy();\n",
    "qnew=q0.copy();\n",
    "Q = [q[1:-1].copy()]\n",
    "\n",
    "while t<T:\n",
    "\n",
    "    if dt>T-t: dt=T-t\n",
    "\n",
    "    qnew[1:] = q[1:] - dt/dx * (q[1:]-q[:-1])\n",
    "\n",
    "    # Periodic BCs:\n",
    "    qnew[0]  = 0.5*(q[1]+q[-2]) - dt/dx * 0.5*(q[1]-q[-2])\n",
    "    qnew[-1] = qnew[0]\n",
    "    \n",
    "    t=t+dt\n",
    "    Q.append(qnew[1:-1].copy())\n",
    "    q = qnew\n",
    "    \n",
    "anim = animation.FuncAnimation(fig, fplot, frames=range(len(Q)//skip))\n",
    "HTML(anim.to_jshtml())"
   ]
  },
  {
   "cell_type": "markdown",
   "metadata": {},
   "source": [
    "# Lax-Wendroff"
   ]
  },
  {
   "cell_type": "code",
   "execution_count": null,
   "metadata": {},
   "outputs": [],
   "source": [
    "#Set up grid\n",
    "N=100; dx=1./N;\n",
    "x=np.linspace(0.,1.,N+1)\n",
    "cflnum=0.7;\n",
    "dt=cflnum*dx;\n",
    "t=0.; T=2.0; # Initial and final time\n",
    "\n",
    "#Initial condition:\n",
    "#q0 = np.exp(-200*(x-0.3)**2)   # Smooth\n",
    "q0 = 1.0*(x>0.2)*(x<0.4)        # Discontinuous\n",
    "\n",
    "q=q0.copy();\n",
    "qnew=q0.copy();\n",
    "Q = [q[1:-1].copy()]\n",
    "\n",
    "while t<T:\n",
    "\n",
    "    if dt>T-t: dt=T-t\n",
    "\n",
    "    qnew[1:-1] = q[1:-1] - cflnum/2 * (q[2:]-q[:-2]) + cflnum**2/2 * (q[2:]-2*q[1:-1] + q[:-2])\n",
    "    \n",
    "    # Periodic BCs:\n",
    "    # To-do\n",
    "    \n",
    "    t=t+dt\n",
    "    Q.append(qnew[1:-1].copy())\n",
    "    q = qnew\n",
    "    \n",
    "anim = animation.FuncAnimation(fig, fplot, frames=range(len(Q)//skip))\n",
    "HTML(anim.to_jshtml())"
   ]
  },
  {
   "cell_type": "code",
   "execution_count": null,
   "metadata": {},
   "outputs": [],
   "source": []
  }
 ],
 "metadata": {
  "kernelspec": {
   "display_name": "Python 3 (ipykernel)",
   "language": "python",
   "name": "python3"
  },
  "language_info": {
   "codemirror_mode": {
    "name": "ipython",
    "version": 3
   },
   "file_extension": ".py",
   "mimetype": "text/x-python",
   "name": "python",
   "nbconvert_exporter": "python",
   "pygments_lexer": "ipython3",
   "version": "3.10.4"
  },
  "toc": {
   "base_numbering": 1,
   "nav_menu": {},
   "number_sections": true,
   "sideBar": true,
   "skip_h1_title": false,
   "title_cell": "Table of Contents",
   "title_sidebar": "Contents",
   "toc_cell": false,
   "toc_position": {},
   "toc_section_display": true,
   "toc_window_display": false
  }
 },
 "nbformat": 4,
 "nbformat_minor": 1
}
