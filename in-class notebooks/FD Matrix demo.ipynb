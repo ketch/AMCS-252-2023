{
 "cells": [
  {
   "cell_type": "code",
   "execution_count": null,
   "metadata": {},
   "outputs": [],
   "source": [
    "%matplotlib inline\n",
    "import numpy as np\n",
    "import matplotlib.pyplot as plt"
   ]
  },
  {
   "cell_type": "markdown",
   "metadata": {},
   "source": [
    "In this notebook we investigate some properties of matrices that approximate the second-derivative operator via a 3-point centered difference:\n",
    "\n",
    "$$\n",
    "  u''(x_j) \\approx \\frac{U_{j+1}-2U_j + U_{j-1}}{h^2}.\n",
    "$$"
   ]
  },
  {
   "cell_type": "markdown",
   "metadata": {},
   "source": [
    "# Properties of the columns of $A^{-1}$"
   ]
  },
  {
   "cell_type": "markdown",
   "metadata": {},
   "source": [
    "The following function constructs the matrix with the boundary values included as unknowns:"
   ]
  },
  {
   "cell_type": "code",
   "execution_count": null,
   "metadata": {},
   "outputs": [],
   "source": [
    "def A_matrix_full(m):\n",
    "    em = np.ones(m+2)\n",
    "    e1=np.ones(m+1)\n",
    "    A = (np.diag(-2*em,0)+np.diag(e1,-1)+np.diag(e1,1))*(m+1)**2\n",
    "    A[0,0] = 1.; A[0,1]=0.; A[-1,-1]=1.; A[-1,-2]=0.\n",
    "    return A"
   ]
  },
  {
   "cell_type": "markdown",
   "metadata": {},
   "source": [
    "Here we build the matrix with $h=1/10$ and check its structure:"
   ]
  },
  {
   "cell_type": "code",
   "execution_count": null,
   "metadata": {},
   "outputs": [],
   "source": [
    "m=9\n",
    "h = 1./(m+1)\n",
    "x = np.linspace(0,1,m+2)\n",
    "A=A_matrix_full(m)\n",
    "print(A)"
   ]
  },
  {
   "cell_type": "markdown",
   "metadata": {},
   "source": [
    "As discussed in class (and in Section 2.11 of LeVeque), the columns of the inverse of $A$ are discrete versions of the Green's function for this problem.  Here we plot one of them:"
   ]
  },
  {
   "cell_type": "code",
   "execution_count": null,
   "metadata": {},
   "outputs": [],
   "source": [
    "B = np.linalg.inv(A)\n",
    "plt.plot(x,B[:,3]/h);"
   ]
  },
  {
   "cell_type": "markdown",
   "metadata": {},
   "source": [
    "This is the exact solution of $u''(x)=f(x)$ when $f(x)=\\delta(x-0.3)$.\n",
    "\n",
    "Next, we plot all the interior columns of $B$, which are the Green's functions corresponding to $f(x)$ being a $\\delta$-function located at each of the grid points."
   ]
  },
  {
   "cell_type": "code",
   "execution_count": null,
   "metadata": {},
   "outputs": [],
   "source": [
    "for j in range(1,m+1):\n",
    "    plt.plot(x,B[:,j]/h);"
   ]
  },
  {
   "cell_type": "markdown",
   "metadata": {},
   "source": [
    "Finally, the first and last columns of $B$ correspond to the exact solution of the problem when $f(x)=0$ and just one of the boundary values is non-zero."
   ]
  },
  {
   "cell_type": "code",
   "execution_count": null,
   "metadata": {},
   "outputs": [],
   "source": [
    "plt.plot(x,B[:,0])"
   ]
  },
  {
   "cell_type": "code",
   "execution_count": null,
   "metadata": {},
   "outputs": [],
   "source": [
    "plt.plot(x,B[:,-1])"
   ]
  },
  {
   "cell_type": "markdown",
   "metadata": {},
   "source": [
    "# Eigenvalues and eigenvectors of $A$"
   ]
  },
  {
   "cell_type": "markdown",
   "metadata": {},
   "source": [
    "Now we examine the spectral properties of the matrix $A$, as discussed in Section 2.10 of LeVeque.  This time it's convenient to eliminate the values of $u$ at the boundaries, by using the boundary conditions."
   ]
  },
  {
   "cell_type": "code",
   "execution_count": null,
   "metadata": {},
   "outputs": [],
   "source": [
    "def A_matrix(m):\n",
    "    em = np.ones(m)\n",
    "    e1=np.ones(m-1)\n",
    "    return (np.diag(-2*em,0)+np.diag(e1,-1)+np.diag(e1,1))*(m+1)**2"
   ]
  },
  {
   "cell_type": "markdown",
   "metadata": {},
   "source": [
    "We proved that the spectral radius of $A^{-1}$ is bounded as $h\\to 0$, and in fact that it should approach $1/\\pi^2$.  Here we test this computationally."
   ]
  },
  {
   "cell_type": "code",
   "execution_count": null,
   "metadata": {},
   "outputs": [],
   "source": [
    "for m in(9,99,999):\n",
    "    B = np.linalg.inv(A_matrix(m))\n",
    "    print(np.max(np.abs(np.linalg.eigvals(B))))"
   ]
  },
  {
   "cell_type": "code",
   "execution_count": null,
   "metadata": {},
   "outputs": [],
   "source": [
    "print(1./np.pi**2)"
   ]
  },
  {
   "cell_type": "markdown",
   "metadata": {},
   "source": [
    "We see that, indeed, the spectral radius is converging to $1/\\pi^2$."
   ]
  },
  {
   "cell_type": "markdown",
   "metadata": {},
   "source": [
    "Finally, we look in some detail at the eigenvectors of $A$.  Since $A$ is a discrete version of the differential operator $d^2/dx^2$, the eigenvectors of $A$ might be expected to approximate the eigenfunctions of this operator."
   ]
  },
  {
   "cell_type": "code",
   "execution_count": null,
   "metadata": {},
   "outputs": [],
   "source": [
    "m=50\n",
    "A=A_matrix(m)\n",
    "[lamda,u]=np.linalg.eig(A)\n",
    "ind = np.argsort(abs(lamda))\n",
    "spectrum = lamda[ind]\n",
    "print('Eigenvalues: ', spectrum)\n",
    "B = np.linalg.inv(A)\n",
    "print('Norm of A^{-1}:', np.linalg.norm(B,2))\n",
    "\n",
    "# sort the eigenvectors too\n",
    "v=np.zeros(np.shape(u))\n",
    "for i in range(len(ind)):\n",
    "    v[:,i]=u[:,ind[i]]"
   ]
  },
  {
   "cell_type": "code",
   "execution_count": null,
   "metadata": {},
   "outputs": [],
   "source": [
    "from ipywidgets import interact, widgets\n",
    "\n",
    "def plot_eigenvector(p):\n",
    "    x=np.linspace(0,1,m+2)\n",
    "    plt.clf()\n",
    "    plt.plot(x[1:-1],v[:,p])\n",
    "    plt.title('Eigenvector $u^{'+str(p)+'}$, corresponding to eigenvalue $\\lambda^{'+str(p)+'}='+str(spectrum[p])+'$')\n",
    "\n",
    "interact(plot_eigenvector, p=widgets.IntSlider(min=0,max=m-1,value=0));"
   ]
  },
  {
   "cell_type": "markdown",
   "metadata": {},
   "source": [
    "The interactive illustration above allows you to examine the eigenvectors corresponding to different eigenvalues of $A$.  Notice that each eigenvector looks like a sinusoidal function; in fact, the entries of each eigenvector are just the values of a certain sine function, sample at the grid points.  This is also discussed in section 2.10 of LeVeque."
   ]
  }
 ],
 "metadata": {
  "kernelspec": {
   "display_name": "Python 3 (ipykernel)",
   "language": "python",
   "name": "python3"
  },
  "language_info": {
   "codemirror_mode": {
    "name": "ipython",
    "version": 3
   },
   "file_extension": ".py",
   "mimetype": "text/x-python",
   "name": "python",
   "nbconvert_exporter": "python",
   "pygments_lexer": "ipython3",
   "version": "3.10.4"
  },
  "toc": {
   "base_numbering": 1,
   "nav_menu": {},
   "number_sections": true,
   "sideBar": true,
   "skip_h1_title": false,
   "title_cell": "Table of Contents",
   "title_sidebar": "Contents",
   "toc_cell": false,
   "toc_position": {},
   "toc_section_display": true,
   "toc_window_display": false
  }
 },
 "nbformat": 4,
 "nbformat_minor": 4
}
