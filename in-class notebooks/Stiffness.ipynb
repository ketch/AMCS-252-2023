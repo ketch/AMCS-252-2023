{
 "cells": [
  {
   "cell_type": "markdown",
   "metadata": {
    "slideshow": {
     "slide_type": "slide"
    }
   },
   "source": [
    "# Stiffness"
   ]
  },
  {
   "cell_type": "markdown",
   "metadata": {
    "slideshow": {
     "slide_type": "slide"
    }
   },
   "source": [
    "We've looked before at the ODE\n",
    "\n",
    "\\begin{align*}\n",
    "u'(t) & = \\lambda (u-\\cos(t)) - \\sin(t).\n",
    "\\end{align*}\n",
    "\n",
    "With $u(0)=1$, the solution is just $u(t)=\\cos(t)$."
   ]
  },
  {
   "cell_type": "markdown",
   "metadata": {
    "slideshow": {
     "slide_type": "fragment"
    }
   },
   "source": [
    "What happens when we integrate this ODE numerically?\n",
    "\n",
    "Remember that for Euler's method we found the stability function\n",
    "\n",
    "$$\n",
    "    R(z) = 1+z,\n",
    "$$\n",
    "\n",
    "so we need \n",
    "\n",
    "$$|R(z)| = |1 + k\\lambda| \\le 1,$$\n",
    "\n",
    "or in other words\n",
    "\n",
    "$$k \\le \\frac{2}{|\\lambda|}.$$"
   ]
  },
  {
   "cell_type": "code",
   "execution_count": null,
   "metadata": {
    "slideshow": {
     "slide_type": "skip"
    }
   },
   "outputs": [],
   "source": [
    "%matplotlib inline\n",
    "import numpy as np\n",
    "import matplotlib.pyplot as plt\n",
    "import matplotlib\n",
    "from scipy import optimize\n",
    "plt.style.use('seaborn-poster')\n",
    "matplotlib.rcParams['figure.figsize'] = (10., 6.)"
   ]
  },
  {
   "cell_type": "code",
   "execution_count": null,
   "metadata": {
    "slideshow": {
     "slide_type": "slide"
    }
   },
   "outputs": [],
   "source": [
    "def Euler(u,t,k,f):\n",
    "    return u + k*f(u,t)\n",
    "\n",
    "def f(u,t):\n",
    "    lamda=-10\n",
    "    return lamda*(u-np.cos(t))-np.sin(t)\n",
    "\n",
    "def exact_solution(lamda,u,t0=0,T=10):\n",
    "    t=np.linspace(t0,T,1000)\n",
    "    u=np.exp(lamda*(t-t0))*(u-np.cos(t0))+np.cos(t)\n",
    "    return t,u\n",
    "\n",
    "def plot_Euler(T,k):\n",
    "    lamda=-10\n",
    "    u=1.\n",
    "    n=int(np.floor(T/k))\n",
    "    t,u_ex=exact_solution(lamda,1,0,T=T)\n",
    "    plt.plot(t,u_ex,'k')\n",
    "\n",
    "    for i in range(n):\n",
    "        unew=Euler(u,i*k,k,f)\n",
    "        plt.plot([i*k,(i+1)*k],[u,unew],'ro-')\n",
    "        u=unew"
   ]
  },
  {
   "cell_type": "code",
   "execution_count": null,
   "metadata": {
    "slideshow": {
     "slide_type": "slide"
    }
   },
   "outputs": [],
   "source": [
    "plot_Euler(T=1., k=0.21)"
   ]
  },
  {
   "cell_type": "code",
   "execution_count": null,
   "metadata": {
    "slideshow": {
     "slide_type": "slide"
    }
   },
   "outputs": [],
   "source": [
    "plot_Euler(T=10,k=0.21)"
   ]
  },
  {
   "cell_type": "markdown",
   "metadata": {
    "slideshow": {
     "slide_type": "fragment"
    }
   },
   "source": [
    "What's going on here?  We know from earlier analysis that because $|k\\lambda|>2$ the calculation is unstable, but can we understand the behavior in more detail?"
   ]
  },
  {
   "cell_type": "markdown",
   "metadata": {
    "slideshow": {
     "slide_type": "slide"
    }
   },
   "source": [
    "Here are some (exact) solutions that start away from the $u(t)=\\cos(t)$ trajectory:"
   ]
  },
  {
   "cell_type": "code",
   "execution_count": null,
   "metadata": {
    "slideshow": {
     "slide_type": "fragment"
    }
   },
   "outputs": [],
   "source": [
    "lamda=-1\n",
    "plt.clf()\n",
    "for t0,eta in [(0,2),(0,-1),(2,1),(5,-0.5)]:\n",
    "    t,u=exact_solution(lamda,eta,t0)\n",
    "    plt.plot(t,u)\n",
    "t,u=exact_solution(lamda,1,0)\n",
    "plt.plot(t,u,'k')\n",
    "plt.title('$\\lambda=-1$');"
   ]
  },
  {
   "cell_type": "markdown",
   "metadata": {
    "slideshow": {
     "slide_type": "slide"
    }
   },
   "source": [
    "Here's the same but with $\\lambda=-10$:"
   ]
  },
  {
   "cell_type": "code",
   "execution_count": null,
   "metadata": {
    "slideshow": {
     "slide_type": "fragment"
    }
   },
   "outputs": [],
   "source": [
    "lamda=-10\n",
    "plt.clf()\n",
    "for t0,eta in [(0,2),(0,-1),(2,1),(5,-0.5)]:\n",
    "    t,u=exact_solution(lamda,eta,t0)\n",
    "    plt.plot(t,u)\n",
    "t,u=exact_solution(lamda,1,0)\n",
    "plt.plot(t,u,'k')\n",
    "plt.title('$\\lambda=-10$');"
   ]
  },
  {
   "cell_type": "markdown",
   "metadata": {
    "slideshow": {
     "slide_type": "slide"
    }
   },
   "source": [
    "Notice how all solutions very rapidly approach the simple $u(t)=\\cos(t)$ solution.  In fact, the general solution is\n",
    "\n",
    "$$\n",
    "    u(t) = e^{\\lambda(t-t_0)}(u_0-\\cos(t_0)) + \\cos(t).\n",
    "$$"
   ]
  },
  {
   "cell_type": "markdown",
   "metadata": {
    "slideshow": {
     "slide_type": "slide"
    }
   },
   "source": [
    "We see that the solution $u(t)=\\cos(t)$ (and nearby solutions) change **very slowly**, while solutions away from this curve change **very quickly**.  \n",
    "\n",
    "Even if we start on or near the slowly-varying solution, numerical errors will move us\n",
    "(slightly) away from it.  If we try to use a large step, each step will land us even further from the slowly-varying solution, and the problem will get worse with each step:"
   ]
  },
  {
   "cell_type": "code",
   "execution_count": null,
   "metadata": {
    "slideshow": {
     "slide_type": "fragment"
    }
   },
   "outputs": [],
   "source": [
    "def plot_Euler2(T,k):\n",
    "    lamda=-10\n",
    "    u=1.\n",
    "    n=int(np.floor(T/k))\n",
    "    t,u_ex=exact_solution(lamda,1,0,T=T)\n",
    "    plt.plot(t,u_ex,'k')\n",
    "\n",
    "    for i in range(n):\n",
    "        unew=Euler(u,i*k,k,f)\n",
    "        plt.plot([i*k,(i+1)*k],[u,unew],'ro-')\n",
    "        u=unew\n",
    "        tt,u_ex=exact_solution(lamda,u,(i+1)*k,T=T)\n",
    "        plt.plot(tt, u_ex)"
   ]
  },
  {
   "cell_type": "code",
   "execution_count": null,
   "metadata": {
    "slideshow": {
     "slide_type": "slide"
    }
   },
   "outputs": [],
   "source": [
    "plot_Euler2(2,0.6)"
   ]
  },
  {
   "cell_type": "markdown",
   "metadata": {
    "slideshow": {
     "slide_type": "slide"
    }
   },
   "source": [
    "Normally, we expect to get an accurate answer if our time step is inversely proportional to the rate of change of the solution:\n",
    "\n",
    "$$k \\lessapprox \\frac{1}{|u'(t)|}.$$\n",
    "\n",
    "But in this case, even though the exact solution derivative is bounded by one, we find that we have to take $k$ much smaller than one.  In this situation we say the problem is **stiff**."
   ]
  },
  {
   "cell_type": "markdown",
   "metadata": {
    "slideshow": {
     "slide_type": "fragment"
    }
   },
   "source": [
    "Note that stiffness doesn't just mean that we need to take \"small\" time steps.  If the solution were changing rapidly, then we would expect to need small time steps anyway to get an accurate solution."
   ]
  },
  {
   "cell_type": "markdown",
   "metadata": {
    "slideshow": {
     "slide_type": "slide"
    }
   },
   "source": [
    "Here's another example of a stiff problem:\n",
    "\n",
    "$$\\begin{align} \n",
    "    u_1'(t) & = -K_1 u_1 \\\\ \n",
    "    u_2'(t) & = K_1 u_1 -K_2 u_2 \\\\\n",
    "    u_3'(t) & = K_2 u_2\n",
    "\\end{align}$$  \n",
    "\n",
    "$$u(0) = [1,0,0].$$  \n",
    "\n",
    "This corresponds to the decay process\n",
    "\n",
    "$$A\\stackrel{K_1}{\\to} B \\stackrel{K_2}{\\to} C.$$  "
   ]
  },
  {
   "cell_type": "markdown",
   "metadata": {
    "slideshow": {
     "slide_type": "fragment"
    }
   },
   "source": [
    "We can write this system as\n",
    "\n",
    "\\begin{align*}\n",
    "    \\begin{bmatrix} u_1' \\\\ u_2' \\\\ u_3' \\end{bmatrix} & = \\begin{bmatrix} -K_1 & 0 & 0 \\\\ K_1 & -K_2 & 0 \\\\ 0 & K_2 & 0 \\end{bmatrix} \\begin{bmatrix} u_1 \\\\ u_2 \\\\ u_3 \\end{bmatrix}\n",
    "\\end{align*}\n",
    "\n",
    "What are the eigenvalues of the matrix on the right hand side?"
   ]
  },
  {
   "cell_type": "markdown",
   "metadata": {
    "slideshow": {
     "slide_type": "fragment"
    }
   },
   "source": [
    "$$ \\lambda = -K_1, -K_2, 0$$"
   ]
  },
  {
   "cell_type": "code",
   "execution_count": null,
   "metadata": {
    "slideshow": {
     "slide_type": "slide"
    }
   },
   "outputs": [],
   "source": [
    "from scipy.integrate import ode\n",
    "\n",
    "def reaction(K1=1, K2=2):\n",
    "    def f(t,u):\n",
    "        du=np.zeros([3])\n",
    "        du[0]=-K1*u[0]\n",
    "        du[1]= K1*u[0] - K2*u[1]\n",
    "        du[2]=           K2*u[1]\n",
    "        return du\n",
    "\n",
    "    t0 = 0.                  # Initial time\n",
    "    u0 = np.array([1.,0.,0.])# Initial values\n",
    "    tfinal = 4.              # Final time\n",
    "    r = ode(f).set_integrator('dopri5',atol=1.e-10,rtol=1.e-10) # Dormand-Prince RK4(5) method\n",
    "    r.set_initial_value(u0, t0)\n",
    "    dt_output=0.02           # Interval between output for plotting\n",
    "    N=int(tfinal/dt_output)       # Number of output times\n",
    "    tt=np.zeros(N+1); tt[0]=t0  # Output times\n",
    "    uu=np.zeros([3,N+1]);       # Output values\n",
    "    uu[:,0]=u0\n",
    "    i=0\n",
    "    while r.successful() and r.t<tfinal:\n",
    "        i=i+1\n",
    "        uu[:,i]=r.integrate(r.t+dt_output)\n",
    "        tt[i]=r.t\n",
    "        \n",
    "    plt.plot(tt,uu[0,:],tt,uu[1,:],tt,uu[2,:]);\n",
    "    plt.legend(['A','B','C']);"
   ]
  },
  {
   "cell_type": "code",
   "execution_count": null,
   "metadata": {
    "slideshow": {
     "slide_type": "slide"
    }
   },
   "outputs": [],
   "source": [
    "reaction(K1=1,K2=2)"
   ]
  },
  {
   "cell_type": "markdown",
   "metadata": {
    "slideshow": {
     "slide_type": "slide"
    }
   },
   "source": [
    "Now let's try it with one fast reaction and one slow reaction:"
   ]
  },
  {
   "cell_type": "code",
   "execution_count": null,
   "metadata": {
    "slideshow": {
     "slide_type": "fragment"
    }
   },
   "outputs": [],
   "source": [
    "reaction(K1=50,K2=1)"
   ]
  },
  {
   "cell_type": "markdown",
   "metadata": {
    "slideshow": {
     "slide_type": "fragment"
    }
   },
   "source": [
    "What's happening in this solution?  Is the problem stiff?"
   ]
  },
  {
   "cell_type": "markdown",
   "metadata": {
    "slideshow": {
     "slide_type": "slide"
    }
   },
   "source": [
    "If we use an explicit method to solve a stiff problem, we will need a **very small timestep** in order to keep the computation stable, even though we don't need a very small timestep to make the local truncation error small.\n",
    "\n",
    "Because of this, it's much better to use an **implicit method** with good stability properties.  Then we can choose a step size that gives an appropriate size of error, without worrying about stability."
   ]
  },
  {
   "cell_type": "markdown",
   "metadata": {
    "slideshow": {
     "slide_type": "slide"
    }
   },
   "source": [
    "# A practical definition of stiffness\n",
    "\n",
    "A problem is stiff if it can be solved more efficiently with an implicit method than an explicit method."
   ]
  },
  {
   "cell_type": "markdown",
   "metadata": {
    "slideshow": {
     "slide_type": "slide"
    }
   },
   "source": [
    "## A-stability\n",
    "\n",
    "We say a method is **A-stable** if the entire left half of the complex plane is contained in its stability region:\n",
    "\n",
    "$$\n",
    "Re(\\lambda)\\le 0 \\implies |R(k\\lambda)|\\le 1.\n",
    "$$\n",
    "\n",
    "We already saw that the backward Euler method and the implicit trapezoidal method are A-stable.  There exist Runge-Kutta methods of arbitrarily high order that are A-stable.\n",
    "\n",
    "However, linear multistep methods that are A-stable cannot be more than 2nd order accurate (Dahlquist's barrier)."
   ]
  },
  {
   "cell_type": "markdown",
   "metadata": {
    "slideshow": {
     "slide_type": "slide"
    }
   },
   "source": [
    "## A$(\\alpha)$-stability\n",
    "\n",
    "For the two examples we looked at earlier, $\\lambda$ is real.  So we don't need stability in the whole left half-plane, but only on the whole negative real axis.  Some methods that are not $A$-stable will still work well here."
   ]
  },
  {
   "cell_type": "code",
   "execution_count": null,
   "metadata": {
    "slideshow": {
     "slide_type": "fragment"
    }
   },
   "outputs": [],
   "source": [
    "from nodepy import lm\n",
    "bdf5= lm.backward_difference_formula(5)\n",
    "bdf5.plot_stability_region();"
   ]
  },
  {
   "cell_type": "markdown",
   "metadata": {
    "slideshow": {
     "slide_type": "slide"
    }
   },
   "source": [
    "We say a method is **A$(\\alpha)$-stable** for a given angle $\\alpha$ if it is stable for a wedge (extending to infinity) that makes an angle $\\alpha$ with the negative real axis.  A-stability corresponds to $\\alpha=90$ degrees."
   ]
  },
  {
   "cell_type": "markdown",
   "metadata": {
    "slideshow": {
     "slide_type": "slide"
    }
   },
   "source": [
    "## L-stability\n",
    "\n",
    "What about **extremely stiff** problems?  For the test problem\n",
    "\n",
    "$$ u'(t) = \\lambda u(t)$$\n",
    "\n",
    "we have\n",
    "\n",
    "$$u(t_{n+1}) = e^{\\lambda k}u(t_n)$$\n",
    "\n",
    "If we let $z=\\lambda k \\to -\\infty$, we have $e^z \\to 0$.\n",
    "In other words, solution components that are extremely stiff should vanish quickly.\n",
    "With a numerical method we have\n",
    "\n",
    "$$U^{n+1} = R(z) U^n$$\n",
    "\n",
    "so we ought to have $R(z)\\to 0$ as $z \\to -\\infty$."
   ]
  },
  {
   "cell_type": "markdown",
   "metadata": {
    "slideshow": {
     "slide_type": "fragment"
    }
   },
   "source": [
    "For backward Euler:\n",
    "\n",
    "$$\n",
    "\\lim_{z\\to-\\infty} R(z) = \\lim_{z\\to-\\infty} \\frac{1}{1-z} = 0.\n",
    "$$\n",
    "\n",
    "But for the implicit trapezoidal method:\n",
    "\n",
    "$$\n",
    "\\lim_{z\\to-\\infty} R(z) = \\lim_{z\\to-\\infty} \\frac{1+z/2}{1-z/2} = -1.\n",
    "$$"
   ]
  },
  {
   "cell_type": "markdown",
   "metadata": {
    "slideshow": {
     "slide_type": "fragment"
    }
   },
   "source": [
    "We say backward Euler is **L-stable** while the trapezoidal method is not.  Methods that are not L-stable have trouble with extremely stiff problems."
   ]
  },
  {
   "cell_type": "code",
   "execution_count": null,
   "metadata": {
    "slideshow": {
     "slide_type": "slide"
    }
   },
   "outputs": [],
   "source": [
    "lam = -1e3\n",
    "def f(u,t):\n",
    "    lamda=lam\n",
    "    return lamda*(u-np.cos(t))-np.sin(t)\n",
    "\n",
    "def Backward_Euler(u,t,k,f):\n",
    "    obj = lambda unew : unew - k*f(unew,t+k) - u\n",
    "    unew = optimize.fsolve(obj,u)\n",
    "    return unew\n",
    "\n",
    "def plot_backward_Euler(T,k):\n",
    "    lamda=lam\n",
    "    u=1.3\n",
    "    n=np.int(np.floor(T/k))\n",
    "    t,u_ex=exact_solution(lamda,1,0,T=T)\n",
    "    plt.plot(t,u_ex,'k')\n",
    "\n",
    "    for i in range(n):\n",
    "        unew=Backward_Euler(u,i*k,k,f)\n",
    "        plt.plot([i*k,(i+1)*k],[u,unew],'ro-')\n",
    "        u=unew\n",
    "\n",
    "plot_backward_Euler(T=10., k=1.)\n",
    "plt.title('Backward Euler (L-stable)');"
   ]
  },
  {
   "cell_type": "code",
   "execution_count": null,
   "metadata": {
    "slideshow": {
     "slide_type": "slide"
    }
   },
   "outputs": [],
   "source": [
    "def Implicit_trapezoidal(u,t,k,f):\n",
    "    obj = lambda unew : unew - 0.5*k*(f(u,t)+f(unew,t+k)) - u\n",
    "    unew = optimize.fsolve(obj,u)\n",
    "    return unew\n",
    "\n",
    "def plot_IT(T,k):\n",
    "    lamda=lam\n",
    "    u=1.3\n",
    "    n=np.int(np.floor(T/k))\n",
    "    t,u_ex=exact_solution(lamda,1,0,T=T)\n",
    "    plt.plot(t,u_ex,'k')\n",
    "\n",
    "    for i in range(n):\n",
    "        unew=Implicit_trapezoidal(u,i*k,k,f)\n",
    "        plt.plot([i*k,(i+1)*k],[u,unew],'ro-')\n",
    "        u=unew\n",
    "\n",
    "plot_IT(T=10., k=.1)\n",
    "plt.title('Implicit Trapezoidal (not L-stable)');"
   ]
  },
  {
   "cell_type": "markdown",
   "metadata": {
    "slideshow": {
     "slide_type": "slide"
    }
   },
   "source": [
    "## Backward differentiation formulas\n",
    "\n",
    "This is a family of 6 linear multistep methods that are $A(\\alpha)$-stable and L-stable.  They take the form:\n",
    "\n",
    "$$\n",
    "\\sum_{j=0}^r \\alpha_j U^{n+j} = k \\beta f(U^{n+r}).\n",
    "$$\n",
    "\n",
    "For $r=1$, we just have the backward Euler method.  For $r>6$ the methods are not zero-stable."
   ]
  },
  {
   "cell_type": "code",
   "execution_count": null,
   "metadata": {
    "slideshow": {
     "slide_type": "fragment"
    }
   },
   "outputs": [],
   "source": [
    "bdf2= lm.backward_difference_formula(2)\n",
    "bdf2.plot_stability_region();"
   ]
  },
  {
   "cell_type": "code",
   "execution_count": null,
   "metadata": {
    "slideshow": {
     "slide_type": "slide"
    }
   },
   "outputs": [],
   "source": [
    "bdf3= lm.backward_difference_formula(3)\n",
    "bdf3.plot_stability_region();"
   ]
  },
  {
   "cell_type": "code",
   "execution_count": null,
   "metadata": {
    "slideshow": {
     "slide_type": "fragment"
    }
   },
   "outputs": [],
   "source": [
    "bdf4= lm.backward_difference_formula(4)\n",
    "bdf4.plot_stability_region();"
   ]
  },
  {
   "cell_type": "code",
   "execution_count": null,
   "metadata": {
    "slideshow": {
     "slide_type": "slide"
    }
   },
   "outputs": [],
   "source": [
    "bdf5= lm.backward_difference_formula(5)\n",
    "bdf5.plot_stability_region();"
   ]
  },
  {
   "cell_type": "code",
   "execution_count": null,
   "metadata": {
    "slideshow": {
     "slide_type": "fragment"
    }
   },
   "outputs": [],
   "source": [
    "bdf6= lm.backward_difference_formula(6)\n",
    "bdf6.plot_stability_region();"
   ]
  },
  {
   "cell_type": "code",
   "execution_count": null,
   "metadata": {},
   "outputs": [],
   "source": [
    "from nodepy import lm\n",
    "bdf6= lm.backward_diffe3rence_formula(7)\n",
    "bdf6.plot_stability_region();"
   ]
  },
  {
   "cell_type": "code",
   "execution_count": null,
   "metadata": {},
   "outputs": [],
   "source": []
  }
 ],
 "metadata": {
  "kernelspec": {
   "display_name": "Python 3 (ipykernel)",
   "language": "python",
   "name": "python3"
  },
  "language_info": {
   "codemirror_mode": {
    "name": "ipython",
    "version": 3
   },
   "file_extension": ".py",
   "mimetype": "text/x-python",
   "name": "python",
   "nbconvert_exporter": "python",
   "pygments_lexer": "ipython3",
   "version": "3.10.4"
  },
  "toc": {
   "base_numbering": 1,
   "nav_menu": {},
   "number_sections": true,
   "sideBar": true,
   "skip_h1_title": false,
   "title_cell": "Table of Contents",
   "title_sidebar": "Contents",
   "toc_cell": false,
   "toc_position": {},
   "toc_section_display": true,
   "toc_window_display": false
  }
 },
 "nbformat": 4,
 "nbformat_minor": 2
}
