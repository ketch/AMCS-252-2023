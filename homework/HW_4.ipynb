{
 "cells": [
  {
   "cell_type": "code",
   "execution_count": 1,
   "metadata": {
    "slideshow": {
     "slide_type": "skip"
    }
   },
   "outputs": [],
   "source": [
    "%matplotlib inline\n",
    "import numpy as np\n",
    "import matplotlib.pyplot as plt"
   ]
  },
  {
   "cell_type": "markdown",
   "metadata": {
    "slideshow": {
     "slide_type": "slide"
    }
   },
   "source": [
    "## Exercise 1: Improved convergence proof for one-step methods\n",
    "\n",
    "The proof of convergence of 1-step methods in Section 6.3 shows that the global error goes to zero as $k\\to 0$. However, this bound may be totally useless in estimating the actual error for a practical calculation.  \n",
    "For example, suppose we solve $$u'(t)=-10u$$ with $$u(0)=1$$ up to time $T=10$, so the true solution is $u(T)=e^{-100} \\approx 3.7\\times 10^{-44}$.  \n",
    "Let's use Euler's method to solve this with a time step $k=0.01$:  "
   ]
  },
  {
   "cell_type": "code",
   "execution_count": 3,
   "metadata": {
    "slideshow": {
     "slide_type": "slide"
    }
   },
   "outputs": [
    {
     "name": "stdout",
     "output_type": "stream",
     "text": [
      "1.9420791685807193e-46\n"
     ]
    }
   ],
   "source": [
    "def Euler(u,t,k,f):\n",
    "    return u + k*f(u,t)\n",
    "f = lambda u,t: -10*u\n",
    "T=10\n",
    "k=0.01\n",
    "t=np.arange(0,T,k)\n",
    "U=np.zeros(len(t))\n",
    "U[0]=1\n",
    "for n in range(len(t)-1):\n",
    "    U[n+1]=Euler(U[n],t[n],k,f)\n",
    "print(U[-1])"
   ]
  },
  {
   "cell_type": "markdown",
   "metadata": {
    "slideshow": {
     "slide_type": "slide"
    }
   },
   "source": [
    "The computed solution is roughly $$U^N = (1+k\\lambda)^{1000} U^0 = (0.9)^{1000}\\approx 1.75 \\times 10^{-46},$$ and so $E^N \\approx u(T)$. \n",
    "\n",
    "Since $L=10$ for this problem, the error bound (6.16) gives \n",
    "$$ \\|E^N\\| \\leq e^{100}\\cdot 10 \\cdot \\|\\tau \\|_\\infty$$ \n",
    "\n",
    "$$ \\approx 2.7 \\times 10^{44} \\|\\tau\\|_\\infty. $$  \n",
    "\n",
    "Here $\\|\\tau\\|_\\infty =|\\tau^0| \\approx 50 k$, so this upper bound on the error *does* go to zero as $k\\to 0$, but obviously it is not a realistic estimate of the error. It is too large by a factor of about $10^{90}$! The problem is that the estimate (6.16) is based on the Lipschitz constant $L=|\\lambda|$, which gives a bound that grows exponentially in time even when the true and computed solutions are decaying exponentially.  "
   ]
  },
  {
   "cell_type": "markdown",
   "metadata": {},
   "source": [
    "(a) Determine the computed solution and error bound (6.16) for the problem $u' = 10u$ with $u(0)=1$ up to time $T=10$.  Is the error bound a reasonable estimate of the actual error?\n",
    "\n",
    "(b) A more realistic error bound for the case where $\\lambda<0$ can be obtained by rewriting (6.17) as $$ U^{n+1} = \\Phi(U^n) $$ and then determining the Lipschitz constant for the function $\\Phi$.   Call this constant $M$.  Prove that if $M\\leq 1$  and $E^0=0$ then  $$ |E^n| \\leq  T\\|\\tau\\|_\\infty $$ for $nk\\leq T$, a bound that is similar to (6.16) but without the exponential factor.\n",
    "\n",
    "(c) For $M$ strictly smaller than 1, can you prove an even tighter bound that gives a realistic estimate for the example above?"
   ]
  },
  {
   "cell_type": "markdown",
   "metadata": {},
   "source": [
    "## Exercise 2: Linear difference equations\n",
    "\n",
    "(a) Determine the general solution to the linear difference equation $$2U^{n+3} - 5U^{n+2} + 4U^{n+1} - U^n = 0.$$  **Hint**: One root of the characteristic polynomial is at $\\zeta=1$.  \n",
    "(b) Determine the solution to this difference equation with the starting values $U^0=11$, $U^1=5$, and $U^2=1$. What is $U^{10}$?  \n",
    "(c) Consider the LMM\n",
    "$$2U^{n+3} - 5U^{n+2} + 4U^{n+1} - U^n = k(\\beta_0 f(U^n) + \\beta_1 f(U^{n+1})).$$\n",
    "For what values of $\\beta_0$ and $\\beta_1$ is local truncation error $\\mathcal{O}(k^2)$?<br /><br />(d) Suppose you use the values of $\\beta_0$ and $\\beta_1$ just determined in this LMM. Is this a convergent method?   "
   ]
  },
  {
   "cell_type": "markdown",
   "metadata": {},
   "source": [
    "## Exercise 3: Convergence of the leapfrog method\n",
    "\n",
    "Consider the midpoint method $U^{n+1} = U^{n-1} + 2kf(U^n)$ applied to the test problem $u' = \\lambda u$. The method is zero-stable and second order accurate, and hence convergent. If $\\lambda<0$ then the true solution is exponentially decaying.  On the other hand, for $\\lambda<0$ and $k>0$ the point $z=k\\lambda$ is never in the region of absolute stability of this method (see Example 7.7), and hence the numerical solution should be growing exponentially for any nonzero time step. (And yet it converges to a function that is exponentially decaying.) Suppose we take $U^0=\\eta$, use Forward Euler to generate $U^1$, and then use the midpoint method for $n=2,~3,~\\ldots$. Work out the exact solution $U^n$ by solving the linear difference equation and explain how the apparent paradox described above is resolved. "
   ]
  },
  {
   "cell_type": "code",
   "execution_count": null,
   "metadata": {},
   "outputs": [],
   "source": []
  },
  {
   "cell_type": "markdown",
   "metadata": {},
   "source": [
    "## Exercise 4: SIR Model and flattening the curve\n",
    "For this exercise, consider the SIR model from the previous homework.  Take initial data\n",
    "$$\n",
    "x(0) = 0.99 \\ \\ \\ \\  y(0) = 0.01\n",
    "$$\n",
    "and parameters\n",
    "$$\n",
    "\\beta = 0.3 \\ \\ \\ \\ \\gamma = 0.1.\n",
    "$$\n",
    "These are realistic parameters for COVID-19 (with time units equal to days) in the early phase of the pandemic.  \n",
    "\n",
    "(i) Implement any method of your choice for solving this initial value problem, and solve it up to a time when the values of $x(t), y(t)$ are nearly constant.  Roughly how long does the pandemic last?  What proportion of the population becomes infected?\n",
    "\n",
    "(ii) **Flattening the curve:** We can simulate social distancing, quarantining, and so forth by reducing the contact rate $\\beta$.  Solve the problem again, but using values $\\beta=0.15$ and $\\beta=0.05$.  For these cases, how long does the pandemic last, and what proportion of the population becomes infected?"
   ]
  },
  {
   "cell_type": "code",
   "execution_count": null,
   "metadata": {},
   "outputs": [],
   "source": []
  }
 ],
 "metadata": {
  "kernelspec": {
   "display_name": "Python 3 (ipykernel)",
   "language": "python",
   "name": "python3"
  },
  "language_info": {
   "codemirror_mode": {
    "name": "ipython",
    "version": 3
   },
   "file_extension": ".py",
   "mimetype": "text/x-python",
   "name": "python",
   "nbconvert_exporter": "python",
   "pygments_lexer": "ipython3",
   "version": "3.10.4"
  },
  "toc": {
   "base_numbering": 1,
   "nav_menu": {},
   "number_sections": true,
   "sideBar": true,
   "skip_h1_title": false,
   "title_cell": "Table of Contents",
   "title_sidebar": "Contents",
   "toc_cell": false,
   "toc_position": {},
   "toc_section_display": true,
   "toc_window_display": false
  }
 },
 "nbformat": 4,
 "nbformat_minor": 1
}
