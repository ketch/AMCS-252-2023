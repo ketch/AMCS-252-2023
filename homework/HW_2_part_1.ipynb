{
 "cells": [
  {
   "cell_type": "markdown",
   "metadata": {},
   "source": [
    "# Exercise 1\n",
    "\n",
    "*(pencil and paper)*\n",
    "\n",
    "Determine the null space of the matrix $A^T$, where $A$ is the matrix from equation (2.58) in the text. Use this to show that this equation has a solution only if equation (2.62) is satisfied.  "
   ]
  },
  {
   "cell_type": "markdown",
   "metadata": {},
   "source": [
    "# Exercise 2\n",
    "In this exercise, you will solve the nonlinear boundary value problem:\n",
    "\n",
    "$$\\begin{align*}\\theta''(t) = -\\sin(\\theta(t)) \\\\ \\theta(0)=\\alpha, \\quad \\quad \\theta(T)=\\beta\\end{align*}$$  \n",
    "\n",
    "corresponding to the motion a rigid pendulum, where $\\theta$ is the angle between the pendulum and the vertical axis (with $\\theta=0$ corresponding to the pendulum hanging directly downward).  \n",
    "  \n",
    "You should use Newton's method, which amounts to solving the system  \n",
    "$$J(\\theta^{[k]}) \\delta^{[k]} = - G(\\theta^{[k]})$$  \n",
    "where the superscript $[k]$ denotes the iteration number. The next iterative solution is then  \n",
    "$$\\theta^{[k]+1} = \\theta^{[k]} + \\delta^{[k]}.$$  \n",
    "The code below constructs $G$ and $J$."
   ]
  },
  {
   "cell_type": "code",
   "execution_count": 1,
   "metadata": {},
   "outputs": [],
   "source": [
    "def G(theta,alpha,beta,h):\n",
    "    Gval = np.zeros(len(theta))\n",
    "    Gval[0] = theta[1]-2*theta[0]+alpha\n",
    "    Gval[1:-1] = theta[:-2]-2*theta[1:-1]+theta[2:]\n",
    "    Gval[-1] = theta[-2]-2*theta[-1]+beta\n",
    "    Gval /= h**2\n",
    "    Gval += np.sin(theta)\n",
    "    return Gval\n",
    "\n",
    "def J(theta,m,T):\n",
    "    h = T/(m+1)\n",
    "    e = np.ones(m)\n",
    "    return 1./h**2*(np.diag(-2*e,0)+np.diag(e[:-1],-1)+np.diag(e[:-1],1))+np.diag(np.cos(theta))"
   ]
  },
  {
   "cell_type": "markdown",
   "metadata": {},
   "source": [
    "Now for your part:\n",
    "\n",
    "(a) Write a program that solves the problem above (for given values of $T,\\alpha,\\beta$) by using Newton's method. Test your code with the boundary conditions and initial guesses given in the textbook. "
   ]
  },
  {
   "cell_type": "code",
   "execution_count": null,
   "metadata": {},
   "outputs": [],
   "source": []
  },
  {
   "cell_type": "markdown",
   "metadata": {},
   "source": [
    "(b) Try taking $T$ larger (perhaps $6\\pi, 8\\pi$, or larger) and see what kinds of solutions you can find, by trying different initial guesses. You will probably observe that Newton's method is very sensitive to the initial guess and often diverges (note that if it's going to converge, it usually won't take more than 10 iterations to do so). Make sure your initial guess satisfies the boundary conditions, and try adjusting it until you find some solutions. Can you find two initial guesses that are very close but converge to very different final solutions? You may also find solutions that have \"boundary layers\" (see section 2.17 of the text, if you're interested). Explain what kind of physical motion each solution corresponds to."
   ]
  },
  {
   "cell_type": "code",
   "execution_count": null,
   "metadata": {},
   "outputs": [],
   "source": []
  }
 ],
 "metadata": {
  "kernelspec": {
   "display_name": "Python 3 (ipykernel)",
   "language": "python",
   "name": "python3"
  },
  "language_info": {
   "codemirror_mode": {
    "name": "ipython",
    "version": 3
   },
   "file_extension": ".py",
   "mimetype": "text/x-python",
   "name": "python",
   "nbconvert_exporter": "python",
   "pygments_lexer": "ipython3",
   "version": "3.10.4"
  },
  "toc": {
   "base_numbering": 1,
   "nav_menu": {},
   "number_sections": true,
   "sideBar": true,
   "skip_h1_title": false,
   "title_cell": "Table of Contents",
   "title_sidebar": "Contents",
   "toc_cell": false,
   "toc_position": {},
   "toc_section_display": true,
   "toc_window_display": false
  }
 },
 "nbformat": 4,
 "nbformat_minor": 1
}
