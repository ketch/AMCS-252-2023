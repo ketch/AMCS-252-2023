{
 "cells": [
  {
   "cell_type": "markdown",
   "metadata": {},
   "source": [
    "# Exercise #2:  \n",
    "Develop a finite difference discretization for \n",
    "\n",
    "$$u''(x)=f(x), \\ \\ \\ u(0)=\\alpha, \\ \\ u(1)=\\beta$$ \n",
    "\n",
    "that uses $U_{i-2},U_{i-1},U_i,U_{i+1},U_{i+2}$. What order of accuracy can be achieved with these values?  \n",
    "\n",
    "Near the boundaries (when $i=1$ or $i=m$), you can't use this method since you would need additional values $U_{-1}$ and $U_{m+2}$.  For each of those points, you can simply use the standard 3-point approximation of the second derivative.\n",
    "\n",
    "Write a function to set up the matrix $A$ corresponding to this method.  How do the eigenvalues and eigenvectors of this matrix compare to those of the tridiagonal matrix discussed in class? By computing the eigenvalues of $A$ for different values of $m$, try to determine whether this method is stable.  "
   ]
  },
  {
   "cell_type": "code",
   "execution_count": null,
   "metadata": {},
   "outputs": [],
   "source": []
  },
  {
   "cell_type": "markdown",
   "metadata": {},
   "source": [
    "# Exercise #3:  \n",
    "Use the numerical discretization you developed in Exercise #4 to solve the BVP  \n",
    "\n",
    "$$u''(x) = f(x), \\ \\ \\ 0 \\le x \\le 1, \\ \\ \\ \\ \\ \\ u(0)=1 \\ \\ \\ \\ \\ u(1)=3$$  \n",
    "\n",
    "with  \n",
    "\n",
    "$$f(x)=-20+\\frac{1}{2}\\phi''(x)\\cos(\\phi(x))-\\frac{1}{2}(\\phi'(x))^2\\sin(\\phi(x))$$  \n",
    "\n",
    "where  \n",
    "\n",
    "$$\\phi(x)=20\\pi x^3.$$  \n",
    "\n",
    "The true solution is\n",
    "\n",
    "$$u(x) = 1 + 12x - 10x^2 + \\frac{1}{2}\\sin(\\phi(x)).$$\n",
    "\n",
    "Compute an approximate solution for several values of $h$, and compute the rate of convergence you see using the max-norm, 2-norm, and 1-norm of the errors (be sure to use the grid function norms, defined on p. 252 of the text)."
   ]
  },
  {
   "cell_type": "code",
   "execution_count": null,
   "metadata": {},
   "outputs": [],
   "source": []
  },
  {
   "cell_type": "markdown",
   "metadata": {},
   "source": [
    "# Exercise #4 \n",
    "\n",
    "*pencil and paper, no computation*\n",
    "\n",
    "*This is an exercise in clear mathematical thinking and writing.  Most of the work has already been done for you in the text and the lectures.  Your goal is to produce a correctly written proof of the result, in your own words.  Be sure to state your reasoning carefully and precisely.*\n",
    "\n",
    "Prove that the 3-point centered finite difference discretization of\n",
    "\n",
    "$$u''(x) = f(x) \\ \\ \\ 0 \\le x \\le 1 \\ \\ \\ u(0)=\\alpha \\ \\ \\ u(1)=\\beta$$\n",
    "\n",
    "is convergent of order two in the 2-norm.  You may proceed as follows:\n",
    "\n",
    "1) Show that the 3-point centered difference approximation of the second derivative is consistent, and write the leading truncation error term (you don't need to derive it).  \n",
    "2) Show that the 2-norm of the discretization matrix $A$ is well-behaved as $h\\to 0$ (i.e., the method is stable).  You can use the expressions for the eigenvalues of $A$ given in the book (no need to derive them).  \n",
    "3) Use these two results to show that the global error is $O(h^2)$ as $h \\to 0$."
   ]
  },
  {
   "cell_type": "code",
   "execution_count": null,
   "metadata": {},
   "outputs": [],
   "source": []
  }
 ],
 "metadata": {
  "kernelspec": {
   "display_name": "Python 3 (ipykernel)",
   "language": "python",
   "name": "python3"
  },
  "language_info": {
   "codemirror_mode": {
    "name": "ipython",
    "version": 3
   },
   "file_extension": ".py",
   "mimetype": "text/x-python",
   "name": "python",
   "nbconvert_exporter": "python",
   "pygments_lexer": "ipython3",
   "version": "3.10.4"
  },
  "toc": {
   "base_numbering": 1,
   "nav_menu": {},
   "number_sections": true,
   "sideBar": true,
   "skip_h1_title": false,
   "title_cell": "Table of Contents",
   "title_sidebar": "Contents",
   "toc_cell": false,
   "toc_position": {},
   "toc_section_display": true,
   "toc_window_display": false
  }
 },
 "nbformat": 4,
 "nbformat_minor": 1
}
