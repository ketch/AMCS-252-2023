{
 "cells": [
  {
   "cell_type": "markdown",
   "metadata": {},
   "source": [
    "# Exercise 1\n",
    "Prove that no explicit Runge-Kutta method is A-stable.  *Hint: what is the form of the stability function for an explicit Runge-Kutta method?*"
   ]
  },
  {
   "cell_type": "markdown",
   "metadata": {},
   "source": [
    "# Exercise 2\n",
    "Consider the $\\theta$-method\n",
    "\n",
    "$$\n",
    "    U^{n+1} = U^n + k(\\theta  f(U^{n+1}) + (1-\\theta)f(U^n)).\n",
    "$$\n",
    "\n",
    "(a) What methods are obtained by taking $\\theta=0, \\theta=1/2,$ and $\\theta=1$?\n",
    "(b) For what values of $\\theta$ is the method A-stable?\n",
    "(c) Write the Butcher tableau for the method.  Determine its order, using the order conditions (5.35), (5.38), (5.39) in the text."
   ]
  },
  {
   "cell_type": "markdown",
   "metadata": {},
   "source": [
    "# Exercise 3\n",
    "(a) Now consider the decay process  \n",
    "$$A\\stackrel{K_1}{\\to} D \\stackrel{K_3}{\\to} B \\stackrel{K_2}{\\to} C.$$  \n",
    "Modify the function f() from the stiffness lecture to return the right-hand-side for this system by adding $u_4=[D]$ with the reaction rate $K_3=3$ and then solve the system using the initial value $u_4=0$. Use scipy's `solve_ivp` function and use the `RK45` integrator.  Plot all 4 components of the result and make sure your results are reasonable.  "
   ]
  },
  {
   "cell_type": "code",
   "execution_count": null,
   "metadata": {},
   "outputs": [],
   "source": []
  },
  {
   "cell_type": "markdown",
   "metadata": {},
   "source": [
    "(b) Suppose $K_3$ is much larger than $K_1$ and $K_2$. Then as $A$ is converted to $D$, it decays almost instantly into $B$. In this case we would expect that $u_4(t)$ will always be very small (though nonzero for $t>0$), while $u_j(t)$ for $j=1,2,3$ will be nearly identical to what would be obtained by solving the first system of 3 components (at the top of the worksheet) with the same reaction rates $K_1$ and $K_2$. Test this by using $K_3=1000$ and solving the system with 4 components.  "
   ]
  },
  {
   "cell_type": "code",
   "execution_count": null,
   "metadata": {},
   "outputs": [],
   "source": []
  },
  {
   "cell_type": "markdown",
   "metadata": {},
   "source": [
    "(c) Try solving the system with $K_3=1000$ and different tolerances, from $10^{-2}$ down to $10^{-10}$. Compare the time required to compute the solution (you may find it useful to use the python package time and the function time.time()). Compare this with the time taken to solve the original system (of three equations) with the same tolerances. You should observe that it is much slower to solve the system that includes $D$, even though the solution is essentially the same. You should also see that the cost of computing the solution doesn't increase much as the tolerance is reduced. Explain these two observations. <span style=\"color: #ff0000;\">Hint: in order to get useful timing figures, set dt_output=tfinal. That way no time will be spent copying the output and you will measure just the time to compute the solution.</span>"
   ]
  },
  {
   "cell_type": "code",
   "execution_count": null,
   "metadata": {},
   "outputs": [],
   "source": []
  },
  {
   "cell_type": "markdown",
   "metadata": {},
   "source": [
    "# Exercise 4\n",
    "\n",
    "(continuation of exercise 3)  \n",
    "(a) Plot the computed solution from part (c) of the previous exercise, using the tolerances $10^{-2}$ and $10^{-4}$, and comment on what you observe.  \n",
    "(b) Now set the tolerances to $10^{-6}$ and vary $K_3$ from 500 up to 2000. You should observe that the time to compute the solution grows linearly with $K_3$. Explain why you would expect this to be true (rather than being roughly constant, or growing at some other rate, such as quadratically in $K_3$). How long would it take to compute a solution for $K_3=10^7$?  \n",
    "(c) Repeat part (b) but use the BDF solver in scipy. Explain why the computational time is much smaller and now roughly constant for large $K_3$. Also try $K_3=10^7$."
   ]
  },
  {
   "cell_type": "code",
   "execution_count": null,
   "metadata": {},
   "outputs": [],
   "source": []
  }
 ],
 "metadata": {
  "kernelspec": {
   "display_name": "Python 3",
   "language": "python",
   "name": "python3"
  },
  "language_info": {
   "codemirror_mode": {
    "name": "ipython",
    "version": 3
   },
   "file_extension": ".py",
   "mimetype": "text/x-python",
   "name": "python",
   "nbconvert_exporter": "python",
   "pygments_lexer": "ipython3",
   "version": "3.6.5"
  },
  "toc": {
   "base_numbering": 1,
   "nav_menu": {},
   "number_sections": true,
   "sideBar": true,
   "skip_h1_title": false,
   "title_cell": "Table of Contents",
   "title_sidebar": "Contents",
   "toc_cell": false,
   "toc_position": {},
   "toc_section_display": true,
   "toc_window_display": false
  }
 },
 "nbformat": 4,
 "nbformat_minor": 2
}
